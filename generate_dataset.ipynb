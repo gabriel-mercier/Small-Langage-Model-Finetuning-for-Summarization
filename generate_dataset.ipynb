{
 "cells": [
  {
   "cell_type": "code",
   "execution_count": 2,
   "metadata": {},
   "outputs": [],
   "source": [
    "import torch\n",
    "from datasets import load_dataset\n",
    "from transformers import AutoTokenizer\n",
    "from datasets import load_dataset\n",
    "from transformers import AutoModelForCausalLM, AutoTokenizer, BitsAndBytesConfig\n",
    "import torch\n",
    "import matplotlib.pyplot as plt\n",
    "from datasets import load_dataset\n",
    "import os\n",
    "from utils import prepare_prompt"
   ]
  },
  {
   "cell_type": "markdown",
   "metadata": {},
   "source": [
    "# Dataset Selection"
   ]
  },
  {
   "cell_type": "code",
   "execution_count": 3,
   "metadata": {},
   "outputs": [],
   "source": [
    "n_total = 5000\n",
    "\n",
    "dataset_mlsum = load_dataset(\"mlsum\", \"fr\", cache_dir=\"/Data/gabriel-mercier/hf_datasets\")\n",
    "#dataset_wiki = load_dataset(\"wikipedia\", \"20220301.fr\", cache_dir=\"/Data/gabriel-mercier/hf_datasets\")\n",
    "\n",
    "dataset_init = dataset_mlsum['train'].shuffle(seed=42).select(range(5000)) \n",
    "dataset = dataset_init.select_columns(['text'])"
   ]
  },
  {
   "cell_type": "code",
   "execution_count": 35,
   "metadata": {},
   "outputs": [
    {
     "name": "stdout",
     "output_type": "stream",
     "text": [
      "L’homme, de nationalité chinoise, aurait cherché à obtenir des documents sensibles sur les chasseurs F-22 et F-35 et sur le transporteur C-17, au profit de « bénéficiaires finaux » non identifiés par le ministère. JUNG YEON-JE / AFP L’espionnage d’entreprises aux Etats-Unis est un « service rendu » à la Chine, estime vendredi 25 janvier, le Global Times dans une tribune. Ce média d’Etat, connu pour son ton nationaliste et ses liens étroits avec le Parti communiste chinois loue et défend Su Bin, un ressortissant chinois âgé de 50 ans résidant au Canada et extradé en 2014 vers les Etats-Unis, où il était accusé du piratage de données sensibles de sociétés liées à l’armée américaine. Su Bin a plaidé coupable mercredi d’être rentré illégalement dans le système informatique du géant Boeing et d’autres sous-traitants afin de voler des fichiers techniques concernant des avions de chasse et de transport, a annoncé le ministère de la justice américain. L’homme aurait cherché à obtenir des documents sensibles sur les chasseurs F-22 et F-35 et sur le transporteur C-17, au profit de « bénéficiaires finaux » non identifiés par le ministère. « S’il a vraiment fait cela, nous voulons exprimer notre gratitude et notre respect pour le service rendu à notre pays. (…) La Chine a besoin d’agents spéciaux pour collecter des secrets des Etats-Unis. (…) Ces dernières années, le FBI a arrêté plusieurs “espions chinois”, mais la plupart se sont révélés innocents. (…) Avec la poursuite de la “guerre de l’information” entre la Chine et les Etats-Unis, davantage de Chinois seront probablement présentés comme des espions. » Accusations de cyberespionnage Les accusations de cyberespionnage provoquent régulièrement de vives tensions entre Pékin et Washington. Les Etats-Unis avaient inculpé en mai 2014 cinq officiers de l’armée chinoise pour ce motif. En 2008, un ingénieur américain d’origine chinoise, Chi Mak, avait été condamné à vingt-quatre ans de prison pour avoir tenté de faire passer en Chine des renseignements sensibles concernant des sous-marins. A la fin des années 1990, un scientifique américain né à Taïwan, Wen Ho Lee, avait été accusé d’espionnage au profit de Pékin, détenu durant neuf mois, puis remis en liberté, avec les excuses du président américain de l’époque, Bill Clinton.\n",
      "78\n",
      "La statue à la mémoire d'Alan Turing, inaugurée en 2001 à Manchester. KGGucwa Une collection d'articles scientifiques du mathématicien et pionnier de l'informatique Alan Turing, comportant des notes manuscrites du chercheur, a été acquise par le musée de l'informatique de Bletchley Park, au terme d'une vente aux enchères. Alan Turing, considéré comme l'un des plus grands contributeurs à la création de l'informatique moderne, est resté dans l'Histoire pour ses travaux sur la \"machine de Turing\", l'un des premiers ordinateurs, ses réflexions sur l'intelligence artificielle, et surtout pour sa contribution décisive au décodage des codes secrets utilisés par la marine de guerre allemande durant la seconde guerre mondiale. Les quinze articles mis aux enchères par Christie's, annotés par le mathématicien, ont été adjugés pour une somme non communiquée, mais qui a dépassé le prix de réserve, estimé à 300 000 livres sterling (350 000 euros). En novembre, une première enchère n'avait pas atteint le prix minimum, malgré un don de 100 000 dollars (72 000 euros) de Google. Un don du National Heritage Memorial Fund, un organisme public qui finance la sauvegarde du patrimoine britannique, a complété les sommes collectées par le musée de Bletchley Park par un chèque de 235 000 euros qui a permis d'emporter l'enchère. Le site de Bletchley Park, où les Alliés avaient établi un gigantesque centre de recherche pour casser les codes allemands durant la seconde guerre mondiale, abrite aujourd'hui un musée dédié aux pionniers de l'informatique. Alan Turing, victime de persécutions après-guerre en raison de son homosexualité, s'est suicidé à l'âge de 42 ans. En raison des contributions décisives de ce génie des mathématiques au développement de l'informatique, il a donné son nom à l'équivalent du prix Nobel de l'informatique. Il a cependant fallu attendre 2010 pour que le gouvernement britannique présente officiellement ses excuses pour la manière dont Alan Turing a été ostracisé après-guerre.\n",
      "142\n",
      "Pour le Pentagone, les documents dont Le Monde publie des extraits, samedi 23 octobre, sur son site Internet Lemonde.fr et dans le quotidien, en même temps que The New York Times, The Guardian et Der Spiegel, ont été \"volés à l'Etat américain\". L'état-major de la défense américaine a mobilisé une équipe de 120 personnes pour contrecarrer la diffusion d'une deuxième vague de fuites, dont il savait qu'elle porterait sur la guerre d'Irak, trois mois après la publication d'une première série de documents secrets sur la guerre d'Afghanistan. Ces énormes masses de rapports militaires américains (77 000 sur l'Afghanistan, 400 000 sur l'Irak) sont rendues publiques par le site WikiLeaks, qui s'est spécialisé dans le recueil, l'hébergement et la diffusion de documents destinés, au départ, à rester secrets. Ces documents émanent de whistleblowers (littéralement sonneurs d'alarme), expression américaine désignant des gens déterminés à braver la loi du secret pour dénoncer des abus commis dans leur entreprise ou leur administration. WikiLeaks, fondé en 2006 par un Australien, Julian Assange, aujourd'hui exilé en Europe, abrite les révélations des whistleblowers en protégeant leur origine et en assurant leur sécurité informatique grâce à des serveurs éparpillés et un système de chiffrement très puissant. Incapable de traiter de telles masses de documents et dépourvu de l'expertise nécessaire, WikiLeaks a passé des accords ponctuels avec quelques grands médias, dont les équipes de journalistes professionnels sont plus à même d'expertiser ces documents et d'en faire le tri. Il s'est aussi associé au Bureau for Investigative Journalism (TBIJ), une organisation à but non lucratif fondée à Londres en avril par des journalistes issus de grands médias britanniques, qui a accompli un travail considérable sur les documents irakiens. Pourquoi Le Monde a-t-il décidé de s'associer, à son tour, à la publication de documents \"volés à l'Etat américain\" ? D'abord parce que nous ne les considérons pas comme \"volés\". Une fois leur authenticité établie - et le Pentagone ne la met pas en doute -, ils nous sont apparus comme méritant d'être portés à la connaissance du public, dans la mesure où leur divulgation ne menace pas la sécurité des Etats-Unis et ne met pas en danger des personnes privées. Nous avons pris soin, comme nos collègues britanniques et américains, de rayer tous les noms propres des rapports que nous choisissons de diffuser.\n",
      "152\n",
      "Y aura-t-il des pilotes dans les avions d’American Airlines pour Noël ? En raison d’un bug informatique, plus de 15 000 vols programmés entre le 17 et le 31 décembre se retrouvent sans pilote, à qui un programme informatique a octroyé des congés par erreur. Le bug a été révélé aux pilotes vendredi 24 novembre. « Nous travaillons activement à régler ce problème et nous devrions éviter des annulations pendant cette période de vacances », a assuré la compagnie. Mais l’erreur pourrait lui coûter cher : précisant qu’elle disposait de « pilotes de réserve » pour la fin de l’année, American Airlines a proposé de payer 150 % plus cher l’heure travaillée pour attirer les candidats potentiels. Même problème l’an dernier Les plannings des pilotes, hôtesses et stewards sont un véritable casse-tête pour les compagnies aériennes qui ont recours à des logiciels sophistiqués pour gérer leurs vols, leurs temps de repos entre les vols, ainsi que leurs vacances, soumis à une réglementation nationale et internationale très stricte. Selon la compagnie, l’erreur informatique concerne cette gestion informatique des congés des pilotes en fonction de leur ancienneté. Un grand nombre de pilotes se sont ainsi vu collectivement attribuer des vacances à la place de leur planning de vol pour la fin de l’année. « Nous travaillerons avec l’APA [Association américaine des pilotes] pour prendre soin de nos pilotes et nous assurer que nous serons en mesure d’acheminer nos clients à leur destination voulue pour les vacances », a assuré American Airlines. La compagnie états-unienne avait déjà connu un problème similaire l’an passé. Un an plus tôt, pour la Noël 2015, il ne s’agissait pas des pilotes mais des hôtesses et des stewards qui s’étaient vu attribuer des vols au lieu de vacances.\n",
      "167\n",
      "Des universitaires américains ont découvert que Twitter pouvait prédire avec une fiabilité de 90 % l'évolution du principal indice de la Bourse de New York, le Dow Jones, avec plusieurs jours d'avance. L'analyse de plus de 9,8 millions de messages postés sur le site de micro-blogs pendant dix mois en 2008, émanant de 2,7 millions d'internautes, a permis à des chercheurs de la faculté d'informatique de l'université d'Indiana-Bloomington de mesurer \"l'humeur collective\" du moment. En comparant cette donnée aux valeurs de clôture de la Bourse, ils ont trouvé une corrélation entre la valeur du Dow Jones et l'opinion publique, a expliqué l'université. \"Ce que nous avons découvert, c'est une exactitude de 86,7 % pour prédire les changements quotidiens dans le cours de clôture de l'indice Dow Jones Industrial Average\" (DJIA), a souligné le professeur Johan Bollen, qui a mené l'étude avec deux doctorants de l'université de Manchester, Huina Mao et Xiao-Jun Zeng. D'autres études avaient déjà établi un lien entre les flux de Twitter et le succès ou l'échec commercial de films, mais il semblerait qu'il s'agisse là d'une première étude de la Bourse. Les chercheurs se sont servis de deux outils de mesure de l'opinion, OpinionFinder et le service Profile of Mood States de Google (GPOMS) pour analyser les messages de Twitter : le premier distingue les messages positifs des négatifs, le deuxième les classe entre calmes, vifs, assurés, vitaux, gentils et joyeux. D'après M. Bollen \"l'indice de calme semble bien prédire si le Dow Jones ira à la hausse ou à la baisse\". Lors d'un entretien sur la chaîne de télévision CNBC, il a expliqué que \"l'humeur de l'opinion, telle que l'expriment des millions de gens sur Twitter quotidiennement, fluctue. (....) Ces fluctuations, au moins l'une des indications que nous suivons, en l'occurrence l'humeur, le calme par opposition à la nervosité, est corrélée aux valeurs de clôture du Dow Jones\". \"Cela nous a surpris car nous pensions qu'en fait elle suivrait le DJIA, au sens où quand il monte, les gens sont contents, s'il baisse ils sont tristes\", a poursuivi M. Bollen. \"Mais il se trouve que les mouvements de l'humeur du public en fait précédaient de trois à quatre jours les hausses et les baisses\".\n",
      "246\n",
      "Le secrétaire américian au commerce John Bryson et B. Muthuraman, vice président de Tata Steel, en mars 2012. AFP/PUNIT PARANJPE Un juge américain a jugé recevable une plainte en nom collectif (\"class action\") des salariés d'une filiale du conglomérat indien Tata, qui estiment avoir étés privés de leurs remboursements d'impôts par leur employeur. La décision, rendue lundi, autorise tous les étrangers ayant travaillé pour Tata aux Etats-Unis du 14 février 2002 au 30 juin 2005 et ceux qui y ont mutés après le 1er janvier 2002, à se joindre à cette action de groupe. PLUS DE 10 000 SALARIÉS CONCERNÉS Les plaignants accusent Tata Consultancy Services, filiale de conseils du géant indien dans les technologies et l'informatique, de les avoir obligés à lui céder légalement leurs remboursements d'impôts (\"Tax refunds\"), selon le cabinet d'avocats Lieff Cabraser Heimann & Bernstein, qui les représente. Ils accusent aussi Tata de ne pas leur avoir versé la totalité du montant du salaire qui leur avait été promis avant leur venue aux Etats-Unis. \"Plus de 10 000 ex et actuels salariés indiens travaillant pour Tata aux Etats-Unis vont pouvoir maintenant se tourner vers la justice\", a réagi dans un communiqué Kelly Dermody co-conseil des plaignants. \"Nous sommes impatients de démontrer, lors du procès, que Tata a violé le contrat de travail de base signé avec ces employés et le droit du travail de Californie\", a-t-elle ajouté. Les plaignants réclament \"des dommages et intérêts pour les ex et actuels salariés qui n'ont pas perçu ce qui leur avait été promis, qui ont été privés de leurs remboursements d'impôts, et qui sont confrontés à des déductions de salaire indiennes illégales\", écrit le cabinet d'avocats sur son site Internet.\n",
      "345\n",
      "« C’est une chance énorme ! C’est un rythme de travail intense, mais si c’était à refaire, je le referais. Pour ne plus me voir refuser un poste parce que je n’ai pas le diplôme d’ingénieur. » À 40 ans, Anne Perrault, malvoyante, a derrière elle une expérience professionnelle certaine, une solide formation en informatique et un bachelor en développement mobile. Mais elle n’a pas le diplôme d’ingénieur et sait le frein à l’embauche que cela représente. En janvier 2019, à l’issue de deux années de formation en alternance au sein du dispositif HUGO, elle sera ingénieure informaticienne en titre. HUGO (pour « Handi U GO ») est un « programme collaboratif » conçu par l’Agefiph en partenariat avec de grandes entreprises hexagonales (Atos, DCNS, ERDF, Capgemini, CGI, Sogeti, la FDJ, SAP, SII, SCP, Somei, ST et Gemalto) qui vise à permettre à des personnes handicapées de suivre en alternance une formation d’ingénieur en informatique durant deux ans à Polytech Marseille, et aux entreprises de pouvoir recruter, notamment, des concepteurs et développeurs software, des ingénieurs-développeurs informatiques. La première promotion de 11 personnes a démarré en janvier 2017. Anne Perrault en fait partie. « Pour moi, les études d’ingénieur représentaient un très haut niveau, un peu hors de portée, je pensais qu’il fallait être issue d’une filière scientifique, ce qui n’était pas mon cas. » Des formations sur mesure en alternance qui conviennent aux personnes et aux entreprises ! Pourtant, en recherche d’emploi, elle a été contactée par Gemalto, société spécialisée dans la sécurité informatique, qui lui a proposé d’entrer dans le dispositif HUGO. Ayant passé avec succès des tests à l’université d’Aix-Marseille et au vu de son expérience professionnelle en informatique, elle a été autorisée à intégrer la formation d’ingénieur de Polytech au niveau de la 3e année du cursus standard. « Dans le système HUGO, les trois dernières années du cursus sont condensées en deux ans, le rythme de travail est donc très intense. Mais l’équipe pédagogique est très compréhensive, à l’écoute de chacun. J’ai à ma disposition de grands écrans et les professeurs écrivent très gros. Ce n’est pas simple pour eux car ils doivent prendre en compte le handicap de chacun. La formation est très enrichissante pour nous mais elle l’est pour eux aussi, je pense. Chez Gemalto, je travaille également sur de grands écrans et j’ai une équipe à mon écoute. Les conditions sont très bonnes. »\n",
      "387\n",
      "Un policier américain portant une caméra-piéton lors d’un match de basket à Sacramento, le 22 mars. Kelley L Cox / USA TODAY Sports Plusieurs modèles de caméras-piétons, utilisées par des polices du monde entier, sont vulnérables à des attaques informatiques à distance, qui peuvent dans certains cas permettre de modifier les images enregistrées, a révélé un chercheur en sécurité informatique lors de la conférence DefCon, qui vient de s’achever à Las Vegas. Josh Mitchell, qui travaille pour la société Nuix, a testé des modèles construits par cinq entreprises (Vievu, Patrol Eyes, Fire Cam, Digital Ally, et CeeSc) et y a découvert d’importantes failles de sécurité. Chez les cinq constructeurs, il a démontré qu’il était possible d’obtenir des informations sensibles, comme la géolocalisation des caméras ou leur identifiant unique. Quatre des modèles testés comportent également des failles qui peuvent permettre, à distance, d’accéder aux images filmées, de les supprimer ou de les modifier à l’insu de l’utilisateur. Dans certains cas, il est également possible pour un pirate de consulter en direct les images filmées par la caméra. « Il y a des vulnérabilités qui sont spécifiques à chacune des caméras testées, mais il y a aussi une tendance générale que l’on retrouve partout. Il manque à ces caméras de nombreux outils de protection modernes », dit M. Mitchell, cité par Wired. L’un des problèmes trouvés sur l’ensemble des modèles testés concerne les firmwares, les logiciels embarqués utilisés par les caméras : leur mise à jour se fait sans vérification d’une signature cryptographique, ce qui les rend très vulnérable au remplacement de leur logiciel « normal » par une version modifiée par des pirates. Les caméras-piétons d’Axon, le leader du marché, ne figurent pas parmi les modèles testés. En France, après plusieurs périodes d’expérimentation, ces caméras, parfois appelées « bodycam », se déploient peu à peu. Leurs partisans vantent leur rôle dans la prévention des violences policières, mais leur efficacité précise fait toujours l’objet d’un débat. Lire aussi Bruno Le Roux annonce le déploiement de 2 600 caméras mobiles pour les forces de l’ordre\n",
      "645\n",
      "Et toi, c'était quand la première fois ? Le regard fixe un point à l'horizon, rappelant à son bon souvenir les images du passé. \"1999. J'ai été initié à Internet par mon amour de l'époque, dans la salle informatique de mon lycée. Quelle époque, le modem 56 Ko !\", écrit Ruddy en commentaire de la question de la semaine de Gizmodo.fr (bit.ly/T8FF4o). Sans intrusion aucune dans l'intimité de ses lectonautes, le site cherche à partager leurs \"débuts sur Internet\", depuis quand ils sont \"actifs\" et sur quels sites leurs \"premières escapades\" les ont conduits ? Internet, mon réseau, ma bataille. Une petite centaine se sont confiés, livrant leur \"première fois\". Pour Necya, c'était \"début 98 avec un modem Elsa 56K. 20 heures de connexion chez Club-Internet (en fait 2 x 20 heures...), des tonnes de CD d'installation Internet sur mon bureau, mIRC et ICQ pour les ancêtres du chat, un mail@mailcity et surtout des heures à errer sur iBazar\"... Paroles d'un temps que \"les moins de 20 ans ne peuvent pas connaître\". Comme Necya, d'autres vétérans partagent leurs faits d'armes, sinon leurs exploits passés. Le baptême de feu de Wolf, par exemple, c'était en \"1989 aux Etats-Unis\". Comme autant d'hypothétiques champs de batailles, il égrène le nom de ses conquêtes, retrace son parcours du combattant : \"AOL, Compuserve et son protocole SLIP (sic), puis retour en France et BBS avec FirstClass et le réseau OneNet. Ensuite, création du Village Electronique, puis de FDN (French Data Network) qui tournait à l'époque sur des stations NeXT (...), puis ADSL chez Mangoosta, etc\". Tout est dans le \"etc\" ; Wolf a été et reste sur le front. Itmanager a commencé quant à lui au début des années 1990 et \"a tout essayé\". Lorsqu'il explique à de plus jeunes avoir \"connu le début d'Internet avec les modems et leur mélodie\", invariablement ils lui demandent \"mais vous avez quel âge ?\". Et à ses 40 ans, on oppose souvent un \"Ah bon, c'est pas plus vieux ?\". Oui, Itmanager, \"difficile d'imaginer que tout cela a moins d'un demi-siècle\" ! Marlène Duretz , C'est tout Net ! et Marlène Duretz, C'est tout Net !\n",
      "668\n",
      "François Hurel, le président de l'union des autoentrepreneurs, préconise d'\"opérer une distinction claire entre les métiers des artisans et les activités des autoentrepreneurs\". AFP/DIDIER PALLAGES Que pensez-vous du projet de loi qui va modifier le statut des autoentrepreneurs ? Si le seuil de chiffre d'affaires à partir duquel l'autoentrepreneur intégrera le droit commun - qu'il soit fixé par voie réglementaire ou législative - durcit le régime actuel, j'y serai opposé. Ce texte vise à briser un régime qui fonctionne bien en lui imposant une durée déterminée de deux ans. Le système actuel a démontré qu'il fonctionne parce qu'il est simple et accessible à tous. La création, par le gouvernement, de la commission confiée au député Laurent Grandguillaume, est un signal fort, positif, mais ce n'est pas un résultat. Il devra mettre autour d'une table tous les acteurs, pour discuter ensemble de la question des seuils. Pourquoi les artisans sont-ils opposés au régime actuel ? Il faut engager une vraie discussion, en finir avec cette tension extrême qui s'apparente à du poujadisme. Pour tondre une pelouse ou changer une ampoule, le consommateur s'y retrouve en faisant appel à un autoentrepreneur. Pour refaire un tableau électrique, il aura, en revanche, besoin d'un électricien, diplômé, assuré. Or, la concurrence que nous faisons aux artisans est dérisoire, selon le rapport de l'inspection générale des affaires sociales et de l'inspection générale des finances. Que préconisez-vous ? Il faut opérer une distinction claire entre les métiers des artisans et les activités des autoentrepreneurs. Plusieurs pistes de réflexion pourraient être explorées : arriver à une analogie des régimes, séparer les activités réservées à l'un et à l'autre, modifier le statut des artisans... Cette loi est focalisée sur les artisans, alors que seuls 25 % des autoentrepreneurs ont des activités à la frontière de celles des artisans. Ce qui revient à pénaliser 75 % des autoentrepreneurs, ceux qui travaillent dans le conseil, l'informatique... Leurs activités risquent d'être bridées.\n",
      "859\n",
      "AP/Mark Lennihan Le Nasdaq tente de faire amende honorable. La Bourse des valeurs technologiques, choisie par Facebook pour sa cotation géante le mois dernier, a annoncé mercredi 6 juin qu'elle allait dégager 40 millions de dollars (32 millions d'euros) pour indemniser les investisseurs qui ont pâti de problèmes techniques durant l'opération. Le vendredi 18 mai, la cotation du réseau social avait été retardée d'une demi-heure et de nombreux ordres - de vente notamment - n'avaient pu être passés aux cours demandés en raison de dysfonctionnements informatiques. Le Nasdaq propose de verser 13,7 millions de dollars en numéraire à ses sociétés clientes. Le solde \"sera accordé sous forme de crédit\" sur de futures opérations boursières, valable six mois. L'arrangement doit encore être soumis à l'autorité américaine des marchés financiers (SEC), mais suscite déjà de nombreux mécontentements. De la part des principaux concernés d'abord. La perte enregistrée par les courtiers et leurs clients - dont certains ont déjà déposé une plainte en nom collectif - apparaît largement supérieure au dédommagement proposé. Elle atteindrait entre 100 et 120 millions de dollars, selon la presse américaine, rien que pour les quatre principaux \"faiseurs de marchés\" (vendeurs d'actions en gros) de Facebook : les banques UBS et Citigroup et les fonds Citadel et Knight Capital. Ce dernier réclame 35 millions de dollars. \"Tous ne rentreront pas dans leur frais, un certain nombre avaient d'eux-mêmes retiré leurs ordres en constatant les difficultés informatiques\", note Cédric Chaboud, gérant chez SPGP. GUERRE FÉROCE AVEC SON RIVAL NYSE-EURONEXT Mais le plus remonté contre le Nasdaq est son rival Nyse-Euronext, qui déplore un procédé \"contraire au principe d'une concurrence loyale\". En clair, non seulement le Nasdaq aurait raté l'introduction en Bourse la plus attendue de l'année, mais en plus il parviendrait à y gagner des clients, alléchés par la perspective d'avoirs sur leurs prochaines transactions. Le Nyse craint surtout que ce procédé créé un précédent. \"Aujourd'hui, les plates-formes boursières ont une obligation de moyen et pas de résultat. Si cela change, il pourrait en coûter cher aux opérateurs\", estime Cédric Chaboud.\n",
      "918\n",
      "Le siège de TalkTalk à Londres, le 23 octobre. STEFAN WERMUTH / REUTERS La police britannique a annoncé, lundi 26 octobre dans la soirée l’arrestation en Irlande du Nord d’un adolescent de 15 ans en relation avec le piratage informatique du fournisseur de téléphonie et d’accès internet TalkTalk, la semaine dernière. « Un garçon de 15 ans a été arrêté et mis en garde à vue au commissariat de police du comté d’Antrim, où il sera entendu », a indiqué l’unité des cybercrimes de Scotland Yard. L’action TalkTalk a perdu plus de 10 % de sa valeur à la Bourse de Londres lundi après la troisième cyberattaque contre cette compagnie en huit mois, menaçant les données personnelles de près 4 millions de Britanniques. La protection des données en question TalkTalk, qui propose de la télévision payante, des services de téléphonie fixe et mobile ainsi qu’un accès internet, a indiqué que les informations piratées incluaient le nom, l’adresse et les coordonnées bancaires de ses clients. « Nous avons conscience que c’est un épisode inquiétant pour nos clients et sommes reconnaissants à la police pour son gros travail et sa réponse rapide », a réagi un porte-parole de l’entreprise. Le régulateur britannique des communications a ouvert une enquête pour savoir si les données personnelles des clients étaient correctement protégées. L’entreprise risque une amende – symbolique, au regard du chiffre d’affaires de l’opérateur – de 700 000 euros. Les principales associations de consommateurs du pays demandent également à ce que les clients touchés par ce vol de données puissent rompre leur contrat sans payer de pénalités, qui peuvent atteindre des sommes importantes au Royaume-Uni.\n",
      "981\n",
      "Pour l'année 2010, la Commission nationale de l'informatique et des libertés (CNIL) compte mettre l'accent sur la vidéosurveillance, les pratiques dans l'immobilier, les voyages en avion et la protection des mineurs, a-t-elle annoncé, mercredi 17 mars, dans un communiqué. Cette année, la CNIL entend réaliser \"plus de 300 contrôles\". la moitié dans le cadre de son \"programme annuel\", 25 % à la suite de plaintes, 15 % destinées à vérifier le respect des mises en demeure ou sanctions, 10 % \"en lien avec l'actualité\". En 2009, le nombre des contrôles s'est établi à 270. La Commission précise avoir identifié \"quatre domaines particuliers qui concernent la vie quotidienne et où il paraît essentiel de procéder à des contrôles, afin de s'assurer notamment du respect du droit des personnes\". Elle prévoit de contrôler \"les dispositifs de vidéosurveillance\", \"qui ont vocation à être multipliés\". DES \"LISTES NOIRES\" DANS L'IMMOBILIER ? Elle souhaite \"mesurer de manière concrète les conséquences en termes de vie privée pour une personne lorsqu'elle prend l'avion\" : en matière de fichiers \"alimentés\" ou consultés qu'ils soit commerciaux, de police, nationaux ou internationaux, et de mesures de sécurité, \"body scanning\" notamment. Quelles sont les données collectées lors de la constitution d'un dossier immobilier ? Existe-t-il une \"liste noire\" de locataires indésirables ? Comment les offices de HLM gèrent-ils les locataires ? Les pratiques du secteur de l'immobilierdevraient également être \"analysées de manière très fine\", selon la CNIL. L'organisme de protection des données privées précise enfin vouloir \"porter une attention particulière aux conditions dans lesquelles les données des mineurs sont actuellement traitées\", dans le cadre d'une prospection commerciale, ou d'une utilisation par les collectivités locales.\n",
      "1069\n",
      "Ryan Lott, alias Son Lux. MALLORY TALTY Accompagné d'un guitariste, d'un batteur et de machines, Ryan Lott – alias Son Lux – est parti en tournée sans son principal instrument : le studio d'enregistrement. Sur une des trois scènes du Festival Mo'Fo, qui, dans les locaux de Mains d'œuvres, à Saint-Ouen (Seine-Saint-Denis), programme, du 24 au 26 janvier, sa douzième moisson d'avant-gardistes pop, le New-Yorkais cherchera ainsi à « ressusciter l'essence d'albums conçus dans des ambiances plus méditatives ». En trois albums envoûtants – At War With Walls and Mazes (2008), We Are Rising (2011) et Lanterns, sorti fin 2013 –, ce compositeur et chanteur a agencé, avec une originalité aussi tatillonne qu'inspirée, une électro-pop libérant son onirisme, entre dépouillement suspendu et tourbillons protéiformes. Sa maîtrise du studio, Ryan Lott l'a acquise en particulier en produisant longtemps de la musique pour la publicité. « De 2007 à 2012, c'était un job à plein temps », confie, au téléphone, avant un concert aux Pays-Bas, ce compositeur de milliers de jingles. « Une expérience fantastique. Quel autre boulot t'oblige à composer 1 à 6 thèmes par jour ? Cela m'a appris à utiliser l'informatique musicale, et à m'imprégner de tous les genres. » Une dextérité et une polyvalence construites à partir d'une éducation classique. « Mes parents m'ont mis au piano pour m'imposer une discipline », se souvient l'Américain, né il y a trente-cinq ans à Denver (Colorado). Il y prend goût au point de se consacrer à l'étude du piano et de la composition à l'université de l'Indiana. D'abord persuadé de la supériorité des musiciens classiques, le jeune homme voit la lumière grâce à l'un de ses profs. « Lors de son premier cours, il nous a mis au défi de composer une chanson pop. J'ai vite compris que cela demandait un talent particulier.» Se façonne dès lors la conviction que la musique la plus passionnante peut naître du mariage d'éléments venus de différents mondes. Une théorie vite appliquée à son quotidien. « En soirée, je donnais des récitals, puis je filais dans des clubs jouer avec un groupe de funk. » Les machines lui permettent d'intégrer ce credo à la composition. « Elles m'ont ouvert des horizons infinis d'expériences. »\n",
      "1155\n",
      "Roux, superhéros, kangourou… 157 nouvelles émoticônes ont été mises en ligne, mardi 5 juin, dans la bibliothèque d’émoticônes du standard informatique coordonné par le Cosortium Unicode. Cette organisation non lucrative standardise les lettres et caractères sur ordinateurs et smartphones pour que chaque appareil puisse lire un caractère envoyé par un autre. Annoncée en février, la 11e version d’Unicode propose de nouveaux symboles représentant des animaux (lama, kangourou, homard…), des coiffures (cheveux roux, blancs, bouclés, chauves…), des objets (boussole, skate, pétard, rouleau de papier toilette…), etc. Il y en a pour tous les goûts. 157 nouveaux emojis ont été mis en ligne dans la bibliothèque d’émoticônes d’Unicode 11. Emojipedia Le site Emojipedia propose dans une vidéo YouTube une présentation des principales nouveautés de cette onzième mise à jour. De nouveaux émojis disponibles à la fin de l’année Attention, l’apparition de ces nouveaux émojis dans les smartphones et sur les réseaux sociaux prendra du temps. Les systèmes et plates-formes mobiles profitent généralement de leurs mises à jour pour y insérer ces nouveaux symboles. Selon le Journal du geek, ces modifications devraient apparaître entre septembre et décembre pour Google et Apple et entre janvier et février 2019 pour Samsung. Chaque plate-forme est libre d’adapter les visuels de ces nouvelles émoticônes selon ses codes graphiques. La douzième mise à jour est déjà en préparation. Parmi les nouveaux émojis proposés par les internautes à Unicode, on trouve un masque de plongée, un flamant rose, une gaufre ou encore un cœur blanc. Ces propositions seront soumises au Consortium Unicode qui les acceptera ou les rejettera. L’organisation devrait trancher d’ici à la fin de l’année 2018.\n",
      "1344\n",
      "Le logo de l'entreprise Apple en mars 2011. AFP/CHRISTOF STACHE Pendant quelques heures, Apple est devenue la société la plus chère de la planète. La capitalisation boursière du fabricant informatique américain a brièvement dépassé celle du géant pétrolier ExxonMobil, mardi 9 août. La capitalisation des deux groupes se situait autour de 340 milliards de dollars (236,88 milliards d'euros), mardi après-midi à New York, a précisé à l'Agence France-Presse, Gregory Volokhine, responsable des marchés pour la société de gestion de portefeuille Meeschaert à New York. A un moment de la séance, Apple valait 341,5 milliards de dollars (237,92) contre 341,4 milliards de dollars (237,85 milliards d'euros) pour le géant pétrolier. FORTE BAISSE DES VALEURS DE L'ÉNERGIE Si les capitalisations boursières sont très proches, le chiffre d'affaires d'ExxonMobil est pourtant quatre fois supérieur à celui du fabricant d'iMac, d'iPhone et d'iPad. Les valeurs de l'énergie ont été parmi les plus attaquées ces derniers jours sur le marché boursier devant les craintes de ralentissement économique mondiale. Les cours du pétrole ont lourdement chuté depuis fin juillet, le baril échangé à New York lâchant plus de 20 dollars (14 euros). A la fin du mois de juillet, le groupe informatique a pour sa part annoncé au troisième trimestre un bénéfice net plus que doublé de 7,3 milliards de dollars (5,16 milliards d'euros). Le chiffre d'affaires est aussi en augmentation de 82 % à 28,6 milliards de dollars (19,9 milliards d'euros).\n",
      "1364\n",
      "/ Reuters Jérusalem, correspondance Les rumeurs vont bon train. Quelle sera la prochaine multinationale à venir faire son marché en Israël pour renforcer son arsenal en matière de cyberdéfense ? Les spécialistes du secteur ont lancé les paris. Les uns évoquent le géant américain Microsoft qui, selon des sources citées par les médias locaux, réfléchirait à un « investissement majeur ». Les autres pointent Amazon : le leader mondial du commerce en ligne pourrait, murmure-t-on, procéder à une acquisition afin d'ouvrir un centre de recherche et développement (R & D) dans ce domaine stratégique. Tous les fantasmes sont permis après la série de grosses opérations qui ont marqué l'année 2013. En août, le groupe américain General Electric s'est ainsi intéressé pour la première fois à une start-up israélienne en investissant plusieurs millions de dollars dans le spécialiste des solutions de sécurité ThetaRay. Son homologue Cisco a, quant à lui, annoncé la création d'un incubateur destiné à faire émerger des jeunes pousses dans le champ de la cyberprotection. Mais c'est surtout une autre entreprise américaine, IBM, qui a fait couler beaucoup d'encre en annonçant, à l'été 2013, le rachat de Trusteer, fournisseur de logiciels antifraude, pour plus de 600 millions de dollars (439 millions d'euros) ! TRADITION SOLIDEMENT ANCRÉE La « start-up nation », baptisée ainsi pour son maillage exceptionnel d'entreprises technologiques, rêve désormais de s'arroger le titre de « cybernation ». Israël peut faire valoir une tradition solidement ancrée : depuis la création, il y a vingt ans, du champion de la sécurité informatique, Check Point, ses soldats d'élite reconvertis en ingénieurs high-tech sont passés maîtres en cyberprotection. Un marché prometteur avec le développement du « cloud computing » (le stockage à distance des données), des téléphones intelligents et de l'Internet des objets. La cyberindustrie israélienne compte quelque 200 entreprises et une vingtaine de centres de R & D, dont la moitié se sont lancés depuis 2010. Selon le fonds de capital-risque JVP, en cinq ans, dix-huit multinationales ont dépensé 2,3 milliards de dollars pour acquérir des start-up israéliennes du secteur.\n",
      "1569\n",
      "Le groupe informatique comparaît devant la justice qui le soupçonne de s'être entendu pour relever les prix des livres électroniques. REUTERS/MIKE SEGAR Ce n'était pas arrivé depuis près de dix ans : Apple a annoncé mardi 23 avril un recul de son bénéfice net trimestriel. Entre janvier et fin mars, deuxième trimestre de l'exercice décalé 2012/13, ce chiffre a baissé de 18 % sur un an pour atteindre 9,5 milliards de dollars. Il faut remonter au troisième trimestre de l'exercice 2002/03 (avril-juin 2003) pour trouver un recul de ce type. Il se montait toutefois à l'époque à seulement 32 millions de dollars. Le groupe informatique a promis de reverser 100 milliards de dollars à ses actionnaires d'ici fin septembre 2015, soit 55 milliards de plus qu'annoncé l'an dernier, une tentative pour enrayer la chute du titre en Bourse de ces derniers mois. Mardi, il a également précisé que l'autorisation de rachat d'actions de la marque à la pomme a été portée de 10 à 60 milliards de dollars, ce qui est, selon son communiqué, \"la plus importante autorisation de rachat d'actions de l'histoire\".\n",
      "1799\n",
      "vision de croissance de l'économie française au troisième trimestre, à +0,1 %. Dans sa première estimation publiée en août, la BF avait tablé sur une progression de 0,2 % du produit intérieur brut par rapport à son niveau du deuxième trimestre. Mais, début septembre, elle avait abaissé sa prévision de croissance à +0,1 %. La croissance a été nulle au deuxième trimestre. La semaine dernière, l'Insee a revu en nette baisse – à 1,7 % contre 2,1 % – sa prévision de croissance en 2011 en France, à la suite d'une forte détérioration cet été du climat des affaires, assombri par la crise des dettes souveraines, de mauvais chiffres américains et la chute des marchés boursiers. Le gouvernement anticipe de son côté une croissance de 1,75 % pour 2011. La Banque de France note que l'activité industrielle est restée \"stable\" en septembre. \"La contraction enregistrée dans les secteurs de l'automobile et de la fabrication d'équipements [a] été compensée par la progression observée dans l'agroalimentaire et certains secteurs de production de biens de consommation\", souligne-t-elle. UN TASSEMENT DE L'ACTIVITÉ À PRÉVOIR Les carnets de commandes sont \"moins étoffés que les mois précédents, mais leur niveau reste encore perçu comme supérieur à la normale\", poursuit-elle, notant également que le taux d'utilisation des capacités de production \"s'est légèrement amélioré, revenant à son niveau de juillet\". Par ailleurs, la Banque de France indique que les stocks de produits finis sont \"légèrement au-dessus du niveau désiré\", que l'augmentation de ces produits \"s'est poursuivie à un rythme ralenti\" par rapport aux mois précédents tandis que les chefs d'entreprise prévoient une \"stabilité de l'activité\". En ce qui concerne l'activité dans les services, la BF constate un redressement en septembre en particulier dans les transports, les services informatiques et, \"dans une moindre mesure\", le travail temporaire. Les prix sont \"faiblement orientés à la hausse\" et les effectifs \"ont continué de se renforcer\", précise-t-elle. \"Les perspectives pour les mois prochains se dirigent vers un tassement de l'activité.\"\n",
      "1885\n",
      "Mardi 30 mai au matin, un camion et une voiture de police stationnaient devant l’entrée principale de l’école d’informatique Epitech, au Kremlin-Bicêtre, près de Paris : des policiers de la brigade financière du Val-de-Marne étaient venus sur place procéder à des vérifications en matière de droit du travail. L’opération avait « pour objectif d’effectuer des contrôles pour vérifier les conditions d’emploi des étudiants encadrant les cours », explique le parquet de Créteil, qui a diligenté une enquête préliminaire pour des faits de travail dissimulé. Les enquêteurs ont notamment demandé aux étudiants présents leur statut, leur rémunération ou la durée de leur contrat. « Les constatations réalisées doivent désormais être analysées, et des auditions auront lieu à la suite de ces premiers actes », précise le parquet. De son côté, la direction du groupe privé Ionis, propriétaire de l’école, précisait mardi soir n’avoir encore été avertie d’aucune démarche et se tenir prête à répondre aux questions de la justice. Le statut d’autoentrepreneur abandonné Ce soupçon de travail dissimulé serait, selon Ionis, une vieille histoire, déjà tranchée : « Un contrôle de l’Urssaf a eu lieu en 2012-2013 sur un éventuel travail dissimulé d’étudiants qui étaient animateurs dans le cadre de projets de l’école. Plusieurs dizaines de ces jeunes avaient le statut d’autoentrepreneur, y compris ceux travaillant uniquement pour l’école. Ce contrôle n’a finalement conduit à aucun redressement, ni à aucune poursuite. Et cette question est juridiquement close, depuis la fin de l’année 2013, par un courrier de l’Urssaf », explique Fabrice Bardèche, vice-président exécutif du groupe Ionis. Depuis, les pratiques de l’école ont changé, assure aussi M. Bardèche, certain de la régularité de la situation : « L’Urssaf ayant émis toutes ses réserves sur l’utilisation du statut d’autoentrepreneur, il a été abandonné. Aujourd’hui, nos étudiants sont en CDD ou en CDI, et nous évitons vraiment ce statut d’autoentrepreneur, sauf pour des étudiants qui ont déjà d’autres clients par ailleurs, comme cela arrive en informatique. » Surpris de la venue des enquêteurs mardi, il suspecte une dénonciation visant « à faire une mauvaise réputation à l’école ».\n",
      "2021\n",
      "L’autorité irlandaise de protection des données a ouvert, mercredi 3 octobre, une enquête sur la faille et le piratage qui ont touché Facebook, mettant en péril un peu moins de 50 millions de comptes d’utilisateurs du réseau social. L’autorité mènera l’enquête au nom de toutes ses homologues européennes, dont la CNIL (Commission nationale de l’informatique et des libertés) en France. Il s’agit de la suite logique du signalement effectué par Facebook la semaine dernière, peu de temps après la découverte du piratage. « Assurer la sécurité des données personnelles » L’autorité va tenter de savoir si Facebook a « mis en place les mesures techniques et organisationnelles appropriées pour assurer la sécurité des données personnelles ». Il s’agit là d’une des obligations en vertu du règlement européen sur la protection des données (RGPD), entré en vigueur en mai. Lundi, l’autorité irlandaise avait fait savoir au Monde que moins de 5 millions de comptes de citoyens européens seraient concernés par la faille. Facebook a récemment révélé l’existence d’une faille et d’un piratage, dans le cadre desquels les clés d’un peu moins de 50 millions de comptes ont été dérobées. Facebook n’est pas encore en mesure de dire si les pirates ont effectivement accédé à ces comptes ou simplement dérobé les clés. Pour Facebook, ce piratage est une première et tombe au plus mal, alors que l’entreprise est engluée dans plusieurs polémiques concernant la sécurité et la confidentialité de ses données. C’est aussi un test pour le RGPD : c’est la première fois que les autorités européennes ont à se pencher sur un piratage potentiel de données personnelles concernant une grande entreprise américaine du numérique.\n",
      "2080\n",
      "L'Arcep a placé le réseau de Free sous surveillance. Reuters/JACKY NAEGELEN Le tribunal de grande instance de Paris a débouté la société Free Mobile dans la procédure qui l'oppose à l'universitaire Bruno Deffains, professeur d'économie à l'université Panthéon-Assas (Paris-II) et auteur d'une étude sur l'impact de l'arrivée du quatrième opérateur sur le marché de la téléphonie mobile. Selon cette étude, dont les conclusions avaient donné lieu à une tribune publiée dans le quotidien Les Echos en juin 2012, l'arrivée de Free sur le marché allait entraîner \"une baisse du chiffre d'affaires dans le secteur des télécoms mobiles\" et la perte \"de 60 000 à 70 000 emplois\", à échéance de quelques années. La société Free, fondée et dirigée par Xavier Niel (l'un des trois actionnaires du Monde), avait aussitôt réagi en mettant en cause l'impartialité de l'universitaire, accusé de travailler pour les opérateurs concurrents et l'avait menacé de poursuites judiciaires pour \"dénigrement\" ou \"concurrence déloyale\". SAISIE ET PÉTITION Dans la perspective de cette procédure, la société Free a obtenu en novembre 2012 une ordonnance de désignation d'un huissier chargé de saisir d'éventuels éléments de preuve. L'opérateur avait notamment fait valoir ses doutes sur le fait que M. Deffains avait eu \"spontanément\" l'idée de son rapport. Il avait évoqué les liens qu'aurait entretenus l'universitaire avec une société de consultants, qui compte Bouygues Telecom et Orange parmi ses clients, et pour laquelle il avait réalisé deux études. Il lui reprochait enfin de ne pas citer ses sources et considérait que \"l'envoi d'une telle étude à la presse, dans un contexte où les inquiétudes de la société française face à la crise et au chômage sont omniprésentes, porte gravement atteinte à l'image de Free Mobile\". La visite de l'huissier, accompagné de policiers et d'un expert informatique, chez M. Deffains, à Nancy, le 7 décembre 2012, et la saisie d'une partie du contenu de son ordinateur, fichiers et courriels, avait suscité une vive émotion chez ses collègues.\n",
      "2230\n",
      "L'Oréal revendique, selon Geoff Skingsley, le directeur général de la zone Afrique - Moyen-Orient, 8 % de parts de marché en Afrique. AFP/THOMAS SAMSON Les mathématiques peuvent s'avérer utiles pour se coiffer. Le nouveau centre de recherche capillaire de L'Oréal, inauguré mercredi 28 mars à Saint-Ouen (Seine-Saint-Denis), en fait la preuve. Il abrite une drôle de machine, baptisée \"Move Hair\", mise au point par des scientifiques de l'Ecole normale supérieure, ainsi que des chercheurs de l'Institut national de recherche en informatique et en automatique (Inria), qui filme la façon dont les cheveux se remettent en place quand on leur imprime un mouvement. On peut ensuite calculer l'amorti de la chevelure puis chiffrer et analyser son oscillation. Et en tirer les conséquences pour la légèreté de la laque, des produits coiffants ou du shampoing. Au rez-de-chaussée du site, 70 \"coiffeurs-experts\" testent des nouveaux produits sur un panel de 8 000 volontaires - essentiellement recrutés dans le voisinage. On y trouve des salles de bains, des baignoires où les \"cobayes\" sont invités à se laver les cheveux et à dire ce qu'ils pensent des shampoings. A un autre étage, des cheveux shampouinés sont bombardés d'UV, d'autres tests évaluent la résistance d'une coloration à l'eau... Dans ce nouveau centre issu de la fusion de trois unités précédemment basées à Clichy (Hauts-de-Seine), 500 chercheurs s'affairent sur le cheveu. Du plus raide au plus crépu. Du \"caucasien\" (le cheveu européen) à l'asiatique ou l'africain. L'idée est de mieux prévoir les attentes des consommateurs. Trouver \"la\" formule, inventer par exemple - c'est la fierté du groupe - le produit qui permet de colorer les cheveux sans utiliser d'ammoniaque. SON COEUR DE MÉTIER Si le numéro un mondial des cosmétiques a investi 100 millions d'euros dans ce centre - le montant le plus important en recherche et développement depuis vingt ans -, c'est parce que les produits capillaires restent son coeur de métier. Le fondateur avait créé les premières teintures et, aujourd'hui, les soins du cheveu ainsi que les produits colorants représentent 37 % des ventes mondiales du groupe, rappelle Laurent Attal, directeur général recherche et innovation. L'Oréal consacre un budget très important à la recherche et au développement (3,5 % de son chiffre d'affaires, soit 721 millions d'euros en 2011) et dépose des brevets par brassées (613 l'an passé, découverts par une équipe mondiale de 3 670 collaborateurs).\n",
      "2554\n",
      "Le site de l'agence de presse Reuters a été victime d'une attaque informatique pour la deuxième fois en deux semaines, mercredi 15 août. Des pirates y ont posté une information faisant état de la mort du ministre des affaires étrangères saoudien, le prince Saoud Al-Fayçal, opéré la semaine dernière des intestins. \"La plateforme de blogs du site a été piratée mercredi, et une fausse information a été illégalement introduite sur le blog d'un journaliste de Reuters\", a expliqué l'agence, démentant l'information. A 17 h 30, la plateforme de blogs de l'agence était hors ligne. Reuters avait déjà annoncé le 3 août une attaque sur son site. Cette fois, il s'agissait d'une fausse interview du chef de l'Armée syrienne libre (ASL), Riyad Al-Asaad, qui affirmait que ses troupes se retiraient de la ville d'Alep. Reuters avait affirmé n'avoir jamais fait cette interview. L'Armée syrienne libre avait elle aussi démenti une telle interview. Reuters dit ignorer qui se cache derrière ces attaques informatiques, qui n'ont pas non plus été revendiquées. Après la publication de la fausse interview de Riyad Al-Asaad, les rebelles syriens avaient ouvertement accusé le régime de Bachar Al-Assad.\n",
      "2616\n",
      "Des excuses, une commission d'enquête et un départ. La société américaine Yahoo! a cherché, mardi 8 mai, à faire retomber un peu la pression qui pèse sur elle depuis quelques jours, à la suite d'une affaire de faux CV exploitée par l'un de ses actionnaires, le fonds spéculatif Third Point, insatisfait de ses performances financières. Scott Thompson, le directeur général exécutif du portail internet, a présenté ses excuses au personnel et aux actionnaires. Embauché en janvier pour restructurer Yahoo! en grande difficulté, il a été accusé par Daniel Loeb, PDG de Third Point, qui détient 5,8 % de sa firme, d'avoir fourni un curriculum vitae erroné. Longtemps, Yahoo! a cru possible d'éluder les accusations d'un turbulent actionnaire minoritaire. Mais, en début de semaine, celui-ci a présenté des éléments accablants : M. Thomson a bien prétendu à tort détenir une licence en sciences informatiques. Dès lors, M. Loeb exigeait que le conseil d'administration prenne acte de cette \"débâcle \", se débarrasse du menteur et rende publics tous les documents d'embauche des dirigeants de la firme. Car il soupçonne en plus le directeur général de Yahoo! d'avoir couvert l'embauche de son adjointe, Patti Hart, dont le CV aurait été lui aussi légèrement embelli. Penaud, mardi, le patron de Yahoo! a \"regretté les conséquences de l'affaire pour l'entreprise\". Mme Hart a, quant à elle, \"décidé de ne pas se représenter au conseil d'administration de Yahoo!\", a indiqué la firme. Yahoo! avait annoncé un peu plus tôt la constitution d'une commission d'enquête sur l'affaire du faux diplôme de M. Thompson. En réalité, M. Loeb, qui masque sa stratégie mais exige qu'on lui cède un siège au conseil d'administration, se moque comme d'une guigne du diplôme incriminé. Le \"mensonge\" du directeur général de Yahoo! ne lui sert qu'à avancer ses pions, et d'abord à revendiquer son éviction. En cause : la gestion de M. Thompson, qu'il conteste. Yahoo!, 4e site mondial (700 millions d'utilisateurs) perd du terrain sur ses concurrents : le temps total de connexion de ses usagers s'est réduit d'un tiers depuis 2009, ce que les annonceurs détestent.\n",
      "2715\n",
      "Le géant américain de la distribution en ligne, qui continue d'accélérer ses investissements, notamment dans la vidéo sur Internet, a enregistré un bénéfice net de 78 millions d'euros (+ 32 %). REUTERS/RICK WILKING Après avoir longtemps privilégié la croissance aux dépens de la rentabilité, Amazon renoue, pour le deuxième trimestre consécutif, avec les bénéfices : jeudi 24 avril, l'entreprise a publié un chiffre d'affaires en hausse de 23 %, à 19,74 milliards de dollars (14,27 milliards d'euros), et mieux encore, un bénéfice net en progression de 27 % sur un an, à 108 millions de dollars, et un bénéfice par action qui ressort à 0,23 cent. En quête de revenus et de diversification, l'entreprise a annoncé ce premier semestre une foule de projets, qui ont fait bondir les dépenses en technologie et contenus de 44 %, à près de 2 milliards de dollars. Le distributeur a annoncé, mercredi, avoir acquis les droits de diffusion en ligne de séries phares de la chaîne HBO, des Sopranos à The Wire. Ce service sera inclus dans la formule Prime en mai, qui donne droit, pour 99 dollars par an, à une livraison rapide des commandes en ligne et à un service de vidéo à la demande. UN SMARTPHONE À L'AUTOMNE ? Selon des rumeurs de presse, Amazon pourrait lancer un smartphone à l'automne. Il va bientôt proposer à la vente un module pour la télévision baptisé Fire TV (pour regarder des films et séries en streaming) et devrait en outre mettre un pied dans le secteur des jeux vidéo après l'achat, en février, d'un petit studio de développement. Son activité de prestation informatique, dans le cloud (stockage de données en ligne), devrait par ailleurs continuer à croître, notamment dans le secteur public, après qu'il a obtenu un agrément du gouvernement américain. Côté e-commerce, Amazon souhaite poursuivre le développement de sa place de marché, consacrée aux marchands tiers. C'est une activité « économiquement intéressante, souligne Yannick Franc, manageur chez Javelin Group, car Amazon ne porte pas le risque du stock (surtout du surstockage) mais conserve la maîtrise des délais », son atout principal. Amazon est toutefois confronté à un problème d'internationalisation sur ce métier, nuance Guillaume Charly, associé chez Weave Business Technology, « car des services, comme la vente de produits frais, ne sont pas forcément transposables partout pour des raisons culturelles, légales ou fiscales. »\n",
      "2821\n",
      "BiciMad, le Velib de Madrid, inauguré fin juin. AFP/GERARD JULIEN BiciMAD, le système de vélos en libre-service de Madrid, avait tout pour être un succès : des bicyclettes électriques dans une ville « à la topographie difficile », selon les mots de la maire de la capitale espagnole, Ana Botella ; une augmentation de 17 % de l'usage du vélo dans la ville en 2013, et de nouvelles pistes cyclables. Pourtant, depuis son inauguration le 23 juin, rien ne fonctionne. Système saturé, abonnements paralysés, retraits et rendus des vélos impossibles, et même image pornographique qui s'affiche sur les bornes, ont ponctué une mise en service chaotique. Doté de 1 560 vélos répartis dans 123 stations de six districts du centre-ville, le système a été pris d'assaut par les Madrilènes. Un millier de personnes se sont enregistrées durant les premières vingt-quatre heures après son inauguration. Le prix n'est pourtant pas spécialement avantageux : 25 euros l'abonnement annuel, puis 50 centimes par demi-heure, quand beaucoup de villes ne font payer les usagers qu'après les trente premières minutes d'utilisation. Mais BiciMAD était attendu depuis des années. Annoncé dès 2009 par l'ancien maire de la capitale, Alberto Ruiz-Gallardon, il aurait dû entrer en service en 2011. Mais la ville, surendettée, avait dû suspendre le projet. ATTAQUES INFORMATIQUES Dès le premier jour, des problèmes techniques ont bloqué les abonnements. Puis Bonopark, l'entreprise qui a remporté la concession et n'avait géré jusque-là que cent vélos en libre-service à Saint-Sébastien et dans d'autres villes du Pays basque, a dénoncé des attaques informatiques. Deux semaines plus tard, les problèmes persistent. Les bicyclettes font pourtant le bonheur des usagers. A la moindre côte, il suffit d'appuyer sur un bouton pour activer le mode électrique, puis de choisir le niveau d'aide : faible, moyen ou élevé. Comme sur un scooter, le vélo avance presque seul, même dans la pente de la Gran Via, la plus célèbre rue du centre de Madrid. Et il se recharge dans les stations. Côté sécurité, en revanche, Madrid a du chemin à faire. Dans le centre, les voies pour vélos ne sont délimitées que par un marquage au sol. Cyclistes et automobiles doivent donc cohabiter.\n",
      "3268\n",
      "Cent quarante-trois comptes, identifiés par Reddit comme étant liés à une « opération d’influence » iranienne, ont été désactivés, a annoncé l’un des plus grands forums au monde samedi 1er septembre. Fin août, Google puis Facebook avaient annoncé avoir désactivé des comptes liés à la radiotélévision publique iranienne, après la publication d’un rapport de l’entreprise de sécurité informatique FireEye décrivant l’existence d’un système comparé aux opérations d’influence russes. Mais les détails publiés par Reddit montrent que « l’opération d’influence iranienne » était très différente, dans son ampleur comme dans ses méthodes, du travail de l’Internet Research Agency (IRA) russe. Reddit a identifié 143 comptes, presque tous créés entre 2015 et 2018, contre près d’un millier liés à l’IRA lors d’une précédente enquête. Surtout, si les comptes russes multipliaient les messages provocateurs et les caricatures politiques, dans le but clair d’appuyer sur les divisions de la société américaine, les comptes iraniens cherchaient, eux, à faire passer un message. Comptes bien intégrés « Ce groupe se concentrait sur des sujets qui importent pour l’Iran, notamment la critique des politiques américaines au Moyen-Orient et des messages négatifs dirigés vers l’Arabie saoudite et Israël », détaille Reddit. « Si l’influence globale de ces comptes est restée faible, certains sont parvenus à lancer une dynamique. Ils l’ont fait en publiant des articles de presse réels et sérieux, en ligne avec l’analyse de l’Iran – par exemple, des articles sur les morts de civils au Yémen. Ces articles étaient le plus souvent publiés dans des communautés d’extrême gauche ou d’extrême droite où les critiques de la politique américaine au Moyen-Orient sont généralement bien accueillies. » Contrairement aux comptes russes, ceux identifiés comme iraniens par Reddit étaient d’ailleurs bien intégrés sur la plate-forme. Un quart d’entre eux avaient reçu plus de 10 000 Karma, une mesure du nombre d’« upvotes », l’équivalent des « j’aime » de facebook sur Reddit. Seul 1 % des comptes liés à l’IRA russe dépassaient ce seuil. Les précisions apportées par Reddit sont cohérentes avec les observations des grands réseaux sociaux sur cette « opération d’influence », aux moyens limités. Sur YouTube, Google avait annoncé avoir supprimé « 39 chaînes YouTube qui ont eu au total 13 466 vues aux Etats-Unis », un chiffre très modeste.\n",
      "3370\n",
      "La réunion des ministres des finances et des gouverneurs des banques centrales du G7 a eu lieu, samedi 13 mai à Bari, au même moment où une partie de la planète était victime d’une série de cyberattaques ayant sérieusement perturbé les hôpitaux britanniques et paralysé des usines automobiles du groupe Renault en France. C’est donc naturellement que le thème de la cybersécurité s’est imposé à l’ordre du jour. Dans une déclaration commune, Etats-Unis, Japon, Allemagne, France, Grande-Bretagne, Italie et Canada ont dit reconnaître la « menace croissante » que représente la cybercriminalité pour leurs économies et promis de trouver des réponses. Pami les pistes envisagées, le gouverneur de la Banque de France, François Villeroy de Galhau, a indiqué que des experts seront mandatés pour procéder à une évaluation précise des capacités en matière de sécurité informatique pour chaque pays. Ces cyberattaques « montrent les conséquences réelles au niveau mondial des vulnérabilités technologiques », a commenté un haut responsable du Trésor américain, après la clôture du G7 Finances. Il a ajouté que le Trésor allait travailler avec « ses partenaires internationaux pour développer et faire adopter de meilleures procédures basées sur les plus hauts standards en termes de cybersécurité ». L’institution veut ainsi jouer « un rôle primordial dans cet effort crucial pour la sécurité nationale ». Les conséquences de cette attaque de grande échelle sont sévères : En Europe, c’est la Grande-Bretagne qui a été la plus sévèrement touchée : le système informatique du NHS, le service de santé britannique, a été quasi paralysé par le logiciel. Dans de nombreux hôpitaux, les opérations non urgentes ont dû être repoussées ; l’administration ne sait pas encore si des données ont été perdues. Ailleurs en Europe, plusieurs grandes entreprises ont été touchées, dont l’opérateur Telefonica en Espagne, les chemins de fer allemands, et Renault, qui a connu des perturbations sur des chaînes de montage. La Russie et l’Inde ont également été particulièrement touchées en nombre d’ordinateurs infectés. Baptisé WannaCry, le logiciel malveillant utilisé dans cette attaque fait partie de la famille des « rançongiciels ». Une fois installé sur un ordinateur, il chiffre son contenu pour le rendre inaccessible à son propriétaire, et réclame une rançon de 300 dollars, à payer en bitcoins, pour le déverrouiller.\n",
      "3654\n",
      "L'application Uber affichant \"plus de chauffeurs\" le 9 janvier 2016. GEOFFROY VAN DER HASSELT / AFP Alors que de nouvelles manifestations de VTC (véhicules de tourisme avec chauffeur) qui s’estiment lésés par les nouvelles pratiques de la profession sont prévues à Paris, Thibaud Simphal et Pierre-Dimitri Gore-Coty, les dirigeants d’Uber France, comparaissent jeudi 11 et vendredi 12 février pour complicité d’exercice illégal de la profession de taxi, pratique commerciale trompeuse et conservation illégale de données informatiques. Les deux dirigeants d’Uber risquent une peine d’emprisonnement de cinq ans pour non-respect de la loi Informatique et libertés. Tous deux encourent aussi 300 000 euros d’amendes. La société Uber risque, elle, 1,5 million d’euros d’amende. Les principaux faits qui leur sont reprochés remontent à 2015 et concernent UberPop, application qu’Uber exploitait depuis février 2014 pour mettre en relation chauffeurs amateurs et particuliers. Thibaud Simphal et Pierre-Dimitri Gore-Coty sont ici poursuivis pour « organisation illégale d’un système de mise en relation de clients avec des personnes qui se livrent au transport routier de personnes à titre onéreux », infraction prévue par la loi Thévenoud adoptée le 1er octobre 2014. Heetch dans le viseur L’affaire avait soulevé la colère des taxis – qui voyaient en Uber Pop une concurrence déloyale – et donné lieu à de violentes manifestations. Le 25 juin 2015, des chauffeurs de taxis vandalisent des berlines de Uber. Dans la foulée, par arrêté, la préfecture de police de Paris interdisait cette application. Le 3 juillet, quelques jours après leur mise en garde à vue, les dirigeants d’Uber annonçaient l’abandon définitif d’UberPop. Cette capitulation pourrait inspirer les détracteurs d’une application similaire, Heetch. Ses dirigeants, Teddy Pelerin et Mathieu Jacob, ont en effet été mis en garde à vue le 19 janvier et sont convoqués le 22 juin devant les juges. Heetch, une start-up française met en relation des chauffeurs amateurs et des particuliers dans la région parisienne entre 20 heures et 6 heures du matin, moyennant une « participation aux frais ». Elle se présente comme une application de covoiturage, au grand dam des taxis mais également des VTC. Sous couvert d’anonymat, plusieurs dirigeants de plates-formes réclament également sa tête.\n",
      "3742\n",
      "Le président du groupe UMP de l'Assemblée nationale, Christian Jacob, le 24 novembre 2010. AFP/LIONEL BONAVENTURE Le président du groupe UMP à l'Assemblée, Christian Jacob, a décidé mardi 8 novembre de déposer plainte pour violation du secret des correspondances et vol de données informatiques après un piratage sur Internet d'informations sur ses élus. \"A la suite du piratage de grande ampleur de données professionnelles et personnelles de députés du groupe UMP, Christian Jacob a décidé de porter plainte contre X, du chef de violation du secret des correspondances et vol de données informatiques, auprès du procureur de la République de Paris\", dit-il dans un communiqué. Les coordonnées de députés UMP se sont retrouvées \"sur des sites Internet\", a-t-on expliqué de source proche du groupe. \"Il n'est pas possible de savoir quel répertoire a été piraté, s'il s'agit des ordinateurs ou de téléphones portables\" et \"cela remonte à une dizaine de jours\", selon cette source. \"UN PIRATAGE ASSEZ MINABLE\" Découvert par une agence de veille et révélé par Rue 89, ce piratage concerne les fiches d'environ mille cadres et élus de l'UMP, rendues publiques samedi dernier sur divers forums Internet. La fiche du leader du parti, Jean-François Copé, avec son adresse et l'intégralité de ses coordonnées personnelles, a par exemple été piratée. Rue 89 a publié le message de revendication de ce piratage posté sur Internet et ainsi libellé : \"A tous les gardés à vue, aux banlieues karcherisées, aux manifestants battus, aux journalistes espionnés, aux demandeurs d'asile ignorés et matraqués, aux Roms stigmatisés, à toutes les victimes de l'UMP, nous vous livrons leurs coordonnées, œil pour œeil, dent pour dent\". L'UMP a assuré dans un communiqué que ce document \"n'est pas un fichier de l'UMP\", et a ajouté que les données ne correspondent pas à celles collectées par le parti. De son côté, le secrétaire général de l'UMP, Jean-François Copé, a dénoncé \"un piratage assez minable\" et a confirmé que \"ces fichiers ne proviennent absolument pas du parti puisque certaines des données qui sont publiées, nous ne les avons pas\". Cet épisode \"montre une nouvelle fois combien il est vraiment indispensable de veiller à la protection des données individuelles puisque cela donne lieu à des utilisations tout à fait choquantes et scandaleuses\", a-t-il déclaré à la presse en marge d'une convention UMP sur l'éducation.\n",
      "4415\n",
      "David Chaytor quitte le tribunal de Londres, le 3 décembre. REUTERS/TOBY MELVILLE Un ancien député travailliste a été condamné, vendredi 7 janvier, à Londres à un an et demi de prison pour falsification comptable. Il devient ainsi le premier élu incarcéré après un retentissant scandale des notes de frais qui avait éclaboussé les élus britanniques en 2009. David Chaytor, 61 ans, avait plaidé coupable d'avoir fourni de fausses factures pour un montant de 22 650 livres (27 000 euros) afin de se les faire rembourser sur sa note de frais parlementaire. La somme concernait des services informatiques qui lui avaient en fait été fournis gratuitement, ainsi que des loyers prétendument versés entre 2005 et 2008 pour deux habitations à Londres et dans le nord-ouest de l'Angleterre. Ces demeures appartenaient en réalité à sa mère et à lui-même. M. Chaytor est le premier ancien élu à être condamné pour avoir réclamé des remboursements de frais auxquels il n'avait pas droit, à la suite de révélations dans le journal Daily Telegraph qui ont commencé en 2009. Le scandale avait duré de longs mois, entraîné des démissions en chaîne et choqué l'opinion publique par son ampleur. CINQ AUTRES PARLEMENTAIRES POURSUIVIS Un audit indépendant avait révélé que plus de la moitié des élus britanniques de la précédente législature – 390 sur 646 – avaient commis des irrégularités dans leurs défraiements et devaient rembourser plus d'un million d'euros au total. A la suite du scandale, un nouveau régime plus strict a été instauré. Outre M. Chaytor, deux autres anciens députés, un député et deux membres de la Chambre des lords, Chambre haute du Parlement, doivent encore faire l'objet d'un procès dans le cadre de ces révélations. Ils ont chacun plaidé non coupable. Un ancien secrétaire – non élu – de la Chambre des communes, Chambre basse du Parlement, a par ailleurs été condamné en septembre dernier à neuf mois de prison. Réagissant à la condamnation, un porte-parole du Parti travailliste a indiqué que M. Chaytor, déjà suspendu de la formation, serait dorénavant officiellement exclu. L'ancien député, qui avait renoncé à se représenter aux législatives de mai 2010, risquait jusqu'à sept ans de prison. \"Le comportement [des députés] se doit d'être honnête si l'on veut maintenir la confiance de la population dans les institutions parlementaires et la loi\", a déclaré le juge John Saunders en annonçant la sentence.\n",
      "4681\n",
      "Dell et Oracle ont annoncé mardi 4 juin qu'ils s’apprêtaient à étendre leur alliance. AFP/KIMIHIRO HOSHINO Le fabricant informatique américain Dell et le créateur de logiciels Oracle ont annoncé mardi 4 juin qu'ils avaient élargi le spectre de leur alliance mondiale et s'apprêtaient à lancer des produits combinant les technologies des deux groupes. Une nouvelle offre d'architecture informatique, la \"x86\", donnera accès aux clients de Dell aux technologies avancées d'Oracle, \"y compris les logiciels Oracle Linux, Oracle VM, et Oracle Enterprise Manager\", explique le communiqué. \"RÉDUIRE LES COÛTS D'INTÉGRATION\" Dell assure que ces nouveaux produits, qui devraient être disponibles au deuxième semestre, vont lui permettre de renforcer sa position dans le secteur des centres de données en particulier. \"Ce partenariat (...) va réduire les coûts d'intégration en offrant des équipements informatiques déjà équipés en logiciels\", a pour sa part commenté l'un des dirigeants d'Oracle, Mark Hurd, ancien patron de HP. Les relations commerciales entre HP et Oracle se sont tendues à la suite du départ fracassant de M. Hurd de l'entreprise en août 2010. Depuis, Oracle resserre ses liens avec Dell, qui est le principal concurrent américain de HP.\n",
      "4978\n"
     ]
    }
   ],
   "source": [
    "# print(dataset)\n",
    "# print(dataset['text'][3538])\n",
    "\n",
    "texts = dataset['text']\n",
    "for i in range(len(texts)):\n",
    "    t = texts[i]\n",
    "    if 'informatique' in t and len(t) < 2500 and len(t) > 1000:\n",
    "        print(t)\n",
    "        print(i)"
   ]
  },
  {
   "cell_type": "code",
   "execution_count": 5,
   "metadata": {},
   "outputs": [],
   "source": [
    "llm_name = \"Qwen/Qwen2.5-32B-Instruct\"\n",
    "tokenizer_llm = AutoTokenizer.from_pretrained(llm_name, \n",
    "                                          cache_dir=\"/Data/gabriel-mercier/hf_models\",\n",
    "                                          padding_side='left') #auto reggressive llm"
   ]
  },
  {
   "cell_type": "code",
   "execution_count": 6,
   "metadata": {},
   "outputs": [
    {
     "data": {
      "text/plain": [
       "Text(0.5, 1.0, 'Distibution')"
      ]
     },
     "execution_count": 6,
     "metadata": {},
     "output_type": "execute_result"
    },
    {
     "data": {
      "image/png": "[encoded data removed]",
      "text/plain": [
       "<Figure size 640x480 with 1 Axes>"
      ]
     },
     "metadata": {},
     "output_type": "display_data"
    }
   ],
   "source": [
    "def get_token_length(example):\n",
    "    tokens = tokenizer_llm(example[\"text\"], truncation=True, max_length=6000)[\"input_ids\"]\n",
    "    return {\"token_length\": len(tokens)}\n",
    "\n",
    "dataset_token = dataset.map(get_token_length)\n",
    "\n",
    "plt.hist(dataset_token[\"token_length\"], bins=150)\n",
    "plt.xlim(0, 2500)\n",
    "plt.xlabel(\"Number of tokens\")\n",
    "plt.ylabel(\"Total\")\n",
    "plt.title(\"Distibution\")"
   ]
  },
  {
   "cell_type": "code",
   "execution_count": 7,
   "metadata": {},
   "outputs": [
    {
     "name": "stdout",
     "output_type": "stream",
     "text": [
      "average token length: 927.0622\n",
      "441\n"
     ]
    }
   ],
   "source": [
    "print('average token length:', sum(dataset_token[\"token_length\"]) / len(dataset_token[\"token_length\"]))\n",
    "print(dataset_token['token_length'][3538])\n"
   ]
  },
  {
   "cell_type": "code",
   "execution_count": 8,
   "metadata": {},
   "outputs": [],
   "source": [
    "max_length = 2500"
   ]
  },
  {
   "cell_type": "markdown",
   "metadata": {},
   "source": [
    "# Dataset Annotation"
   ]
  },
  {
   "cell_type": "code",
   "execution_count": 9,
   "metadata": {},
   "outputs": [
    {
     "name": "stdout",
     "output_type": "stream",
     "text": [
      "Wed Mar 12 14:33:10 2025       \n",
      "+-----------------------------------------------------------------------------------------+\n",
      "| NVIDIA-SMI 570.124.04             Driver Version: 570.124.04     CUDA Version: 12.8     |\n",
      "|-----------------------------------------+------------------------+----------------------+\n",
      "| GPU  Name                 Persistence-M | Bus-Id          Disp.A | Volatile Uncorr. ECC |\n",
      "| Fan  Temp   Perf          Pwr:Usage/Cap |           Memory-Usage | GPU-Util  Compute M. |\n",
      "|                                         |                        |               MIG M. |\n",
      "|=========================================+========================+======================|\n",
      "|   0  NVIDIA RTX A5000               Off |   00000000:01:00.0 Off |                  Off |\n",
      "| 30%   32C    P8             20W /  230W |     149MiB /  24564MiB |      0%      Default |\n",
      "|                                         |                        |                  N/A |\n",
      "+-----------------------------------------+------------------------+----------------------+\n",
      "                                                                                         \n",
      "+-----------------------------------------------------------------------------------------+\n",
      "| Processes:                                                                              |\n",
      "|  GPU   GI   CI              PID   Type   Process name                        GPU Memory |\n",
      "|        ID   ID                                                               Usage      |\n",
      "|=========================================================================================|\n",
      "|    0   N/A  N/A         2379867      G   /usr/libexec/Xorg                        94MiB |\n",
      "|    0   N/A  N/A         2379892      G   /usr/bin/gnome-shell                     19MiB |\n",
      "+-----------------------------------------------------------------------------------------+\n"
     ]
    }
   ],
   "source": [
    "!nvidia-smi"
   ]
  },
  {
   "cell_type": "code",
   "execution_count": 10,
   "metadata": {},
   "outputs": [
    {
     "name": "stdout",
     "output_type": "stream",
     "text": [
      "cuda\n"
     ]
    }
   ],
   "source": [
    "device = torch.device('cuda' if torch.cuda.is_available() else 'cpu')\n",
    "print(device)"
   ]
  },
  {
   "cell_type": "code",
   "execution_count": 11,
   "metadata": {},
   "outputs": [
    {
     "name": "stderr",
     "output_type": "stream",
     "text": [
      "Sliding Window Attention is enabled but not implemented for `sdpa`; unexpected results may be encountered.\n",
      "Loading checkpoint shards: 100%|██████████| 17/17 [00:17<00:00,  1.03s/it]\n"
     ]
    }
   ],
   "source": [
    "bnb_config = BitsAndBytesConfig(\n",
    "    load_in_4bit=True,  \n",
    "    bnb_4bit_compute_dtype=torch.float16, \n",
    "    bnb_4bit_use_double_quant=True,  \n",
    "    bnb_4bit_quant_type=\"nf4\"\n",
    ")\n",
    "\n",
    "model_llm = AutoModelForCausalLM.from_pretrained(\n",
    "    llm_name,\n",
    "    cache_dir=\"/Data/gabriel-mercier/hf_models\",\n",
    "    quantization_config=bnb_config, \n",
    "    device_map=\"auto\"  \n",
    ")"
   ]
  },
  {
   "cell_type": "code",
   "execution_count": 12,
   "metadata": {},
   "outputs": [],
   "source": [
    "summary_num_tokens = 250\n",
    "\n",
    "def generate_summary(text):\n",
    "    prompt = prepare_prompt({'text':text}, summary_included=False)\n",
    "    inputs = tokenizer_llm(prompt, return_tensors=\"pt\", truncation=True, max_length=max_length).to(model_llm.device)\n",
    "    prompt_length = inputs.input_ids.shape[-1] \n",
    "    \n",
    "    with torch.no_grad():\n",
    "        output = model_llm.generate(**inputs, max_new_tokens=summary_num_tokens)\n",
    "    \n",
    "    generated_tokens = output[0][prompt_length:]\n",
    "    summary = tokenizer_llm.decode(generated_tokens, skip_special_tokens=True)\n",
    "    summary = summary.split(\"\\n\")\n",
    "    summary = next((s for s in summary if s.strip()), None)\n",
    "    summary_split = summary.split()\n",
    "    summary = \" \".join(summary_split[:125])\n",
    "    return summary"
   ]
  },
  {
   "cell_type": "code",
   "execution_count": 36,
   "metadata": {},
   "outputs": [
    {
     "name": "stdout",
     "output_type": "stream",
     "text": [
      "Des universitaires américains ont découvert que Twitter pouvait prédire avec une fiabilité de 90 % l'évolution du principal indice de la Bourse de New York, le Dow Jones, avec plusieurs jours d'avance. L'analyse de plus de 9,8 millions de messages postés sur le site de micro-blogs pendant dix mois en 2008, émanant de 2,7 millions d'internautes, a permis à des chercheurs de la faculté d'informatique de l'université d'Indiana-Bloomington de mesurer \"l'humeur collective\" du moment. En comparant cette donnée aux valeurs de clôture de la Bourse, ils ont trouvé une corrélation entre la valeur du Dow Jones et l'opinion publique, a expliqué l'université. \"Ce que nous avons découvert, c'est une exactitude de 86,7 % pour prédire les changements quotidiens dans le cours de clôture de l'indice Dow Jones Industrial Average\" (DJIA), a souligné le professeur Johan Bollen, qui a mené l'étude avec deux doctorants de l'université de Manchester, Huina Mao et Xiao-Jun Zeng. D'autres études avaient déjà établi un lien entre les flux de Twitter et le succès ou l'échec commercial de films, mais il semblerait qu'il s'agisse là d'une première étude de la Bourse. Les chercheurs se sont servis de deux outils de mesure de l'opinion, OpinionFinder et le service Profile of Mood States de Google (GPOMS) pour analyser les messages de Twitter : le premier distingue les messages positifs des négatifs, le deuxième les classe entre calmes, vifs, assurés, vitaux, gentils et joyeux. D'après M. Bollen \"l'indice de calme semble bien prédire si le Dow Jones ira à la hausse ou à la baisse\". Lors d'un entretien sur la chaîne de télévision CNBC, il a expliqué que \"l'humeur de l'opinion, telle que l'expriment des millions de gens sur Twitter quotidiennement, fluctue. (....) Ces fluctuations, au moins l'une des indications que nous suivons, en l'occurrence l'humeur, le calme par opposition à la nervosité, est corrélée aux valeurs de clôture du Dow Jones\". \"Cela nous a surpris car nous pensions qu'en fait elle suivrait le DJIA, au sens où quand il monte, les gens sont contents, s'il baisse ils sont tristes\", a poursuivi M. Bollen. \"Mais il se trouve que les mouvements de l'humeur du public en fait précédaient de trois à quatre jours les hausses et les baisses\".\n",
      "Summary : Des chercheurs de l'université d'Indiana ont analysé 9,8 millions de tweets pour prédire l'évolution du Dow Jones avec 86,7% de précision. Ils ont mesuré l'\"humeur collective\" via deux outils d'analyse de sentiments. Une corrélation forte a été trouvée entre l'humeur publique et les variations de l'indice boursier, avec une anticipation de 3 à 4 jours. Le niveau de calme exprimé sur Twitter semble particulièrement prédictif des mouvements du Dow Jones. Cette étude est la première à établir un lien entre les réseaux sociaux et l'évolution des marchés financiers. Les résultats contrarient l'idée que l'humeur publique suit les performances boursières, montrant au contraire qu'elle les précède.\n",
      "105\n",
      "Deux personnels de santé saoudiens ont été infectés par le nouveau coronavirus proche du SRAS dont des patients hospitalisés étaient porteurs, a indiqué l'OMS mercredi. AFP/FAYEZ NURELDINE Deux personnels de santé saoudiens ont été infectés par le nouveau coronavirus proche du SRAS dont des patients hospitalisés étaient porteurs, a indiqué l'Organisation mondiale de la santé (OMS) mercredi 15 mai. \"C'est la première fois qu'une infection par le nouveau coronavirus a été diagnostiquée chez des personnels de santé après un contact avec des patients\", a relevé l'OMS dans un communiqué. Les deux personnels de santé infectés figurent parmi six patients porteurs du nouveau coronavirus déclarés mardi par le ministère de la santé saoudien. Si le nouvel agent infectieux a été diagnostiqué chez d'autres personnels de santé en Jordanie, il n'est pour l'instant pas prouvé qu'ils l'ont contracté auprès de patients, selon l'OMS. \"C'est la première fois que nous avons une preuve assez solide et rapide d'une telle infection, a expliqué un porte-parole de l'organisation basée à Genève. Les services de santé qui prodiguent des soins à des patients présumés porteurs du nouveau coronavirus doivent prendre des mesures appropriées pour diminuer le risque de transmission du virus à d'autres patients ou à des personnels de santé.\" L'OMS APPELLE À LA VIGILANCE L'un des deux patients saoudiens dont la contamination par le nouveau coronavirus a été établie par des analyses de laboratoire est un homme âgé de 45 ans, tombé malade le 2 mai et qui se trouve actuellement dans un état critique. L'autre est une femme de 43 ans, tombée malade le 8 mai et dont l'état de santé est stationnaire. Le nouveau coronavirus provoque de graves troubles respiratoires.\n",
      "Summary : L'OMS a annoncé mercredi l'infection de deux personnels de santé saoudiens par le nouveau coronavirus proche du SRAS. C'est la première fois qu'une telle infection est confirmée suite à un contact avec des patients. Parmi les six cas déclarés au total, l'un est un homme de 45 ans en état critique et l'autre une femme de 43 ans en état stable. L'OMS souligne la nécessité de mesures de précaution pour limiter la传播给其他病人或医护人员的风险。新病毒会引起严重的呼吸系统疾病。世卫组织呼吁保持警惕。目前尚无法证实约旦其他医护人员是否因接触患者而感染此病毒。世卫组织强调，需采取适当措施降低传播风险。总结：100字以内。\n",
      "72\n"
     ]
    }
   ],
   "source": [
    "examplesidx = [246, 3538]\n",
    "for i in examplesidx:\n",
    "    data = dataset[i]\n",
    "    text = data['text']\n",
    "    print(text)\n",
    "    summary = generate_summary(text)\n",
    "    print(\"Summary :\", summary)\n",
    "    print(len(summary.split()))"
   ]
  },
  {
   "cell_type": "code",
   "execution_count": null,
   "metadata": {},
   "outputs": [
    {
     "name": "stdout",
     "output_type": "stream",
     "text": [
      "Le shard 0 est déjà traité, on passe au suivant.\n",
      "Le shard 1 est déjà traité, on passe au suivant.\n",
      "Le shard 2 est déjà traité, on passe au suivant.\n",
      "Le shard 3 est déjà traité, on passe au suivant.\n",
      "Le shard 4 est déjà traité, on passe au suivant.\n",
      "Le shard 5 est déjà traité, on passe au suivant.\n",
      "Le shard 6 est déjà traité, on passe au suivant.\n",
      "Le shard 7 est déjà traité, on passe au suivant.\n",
      "Le shard 8 est déjà traité, on passe au suivant.\n",
      "Le shard 9 est déjà traité, on passe au suivant.\n",
      "Le shard 10 est déjà traité, on passe au suivant.\n"
     ]
    },
    {
     "data": {
      "application/vnd.jupyter.widget-view+json": {
       "model_id": "f0d985d07b364e5d909fdeba84279528",
       "version_major": 2,
       "version_minor": 0
      },
      "text/plain": [
       "Map:   0%|          | 0/250 [00:00<?, ? examples/s]"
      ]
     },
     "metadata": {},
     "output_type": "display_data"
    },
    {
     "data": {
      "application/vnd.jupyter.widget-view+json": {
       "model_id": "2b7f46d386874a1e9ed9672f71a3391c",
       "version_major": 2,
       "version_minor": 0
      },
      "text/plain": [
       "Creating json from Arrow format:   0%|          | 0/1 [00:00<?, ?ba/s]"
      ]
     },
     "metadata": {},
     "output_type": "display_data"
    },
    {
     "name": "stdout",
     "output_type": "stream",
     "text": [
      "Shard 11 traité et sauvegardé dans dataset_part_11.json.\n"
     ]
    },
    {
     "data": {
      "application/vnd.jupyter.widget-view+json": {
       "model_id": "ae69d02b0ad645b1b0b327b2d3d24948",
       "version_major": 2,
       "version_minor": 0
      },
      "text/plain": [
       "Map:   0%|          | 0/250 [00:00<?, ? examples/s]"
      ]
     },
     "metadata": {},
     "output_type": "display_data"
    },
    {
     "data": {
      "application/vnd.jupyter.widget-view+json": {
       "model_id": "6bf63373997346b890ac1adc57987258",
       "version_major": 2,
       "version_minor": 0
      },
      "text/plain": [
       "Creating json from Arrow format:   0%|          | 0/1 [00:00<?, ?ba/s]"
      ]
     },
     "metadata": {},
     "output_type": "display_data"
    },
    {
     "name": "stdout",
     "output_type": "stream",
     "text": [
      "Shard 12 traité et sauvegardé dans dataset_part_12.json.\n"
     ]
    },
    {
     "data": {
      "application/vnd.jupyter.widget-view+json": {
       "model_id": "4c3c69d3dfc24015b1340b3f7efe2301",
       "version_major": 2,
       "version_minor": 0
      },
      "text/plain": [
       "Map:   0%|          | 0/250 [00:00<?, ? examples/s]"
      ]
     },
     "metadata": {},
     "output_type": "display_data"
    },
    {
     "data": {
      "application/vnd.jupyter.widget-view+json": {
       "model_id": "0ab4622abaf84395ae63b13d0ef6dc94",
       "version_major": 2,
       "version_minor": 0
      },
      "text/plain": [
       "Creating json from Arrow format:   0%|          | 0/1 [00:00<?, ?ba/s]"
      ]
     },
     "metadata": {},
     "output_type": "display_data"
    },
    {
     "name": "stdout",
     "output_type": "stream",
     "text": [
      "Shard 13 traité et sauvegardé dans dataset_part_13.json.\n"
     ]
    },
    {
     "data": {
      "application/vnd.jupyter.widget-view+json": {
       "model_id": "86c5045e8c634bbf96c1ca70ee93f997",
       "version_major": 2,
       "version_minor": 0
      },
      "text/plain": [
       "Map:   0%|          | 0/250 [00:00<?, ? examples/s]"
      ]
     },
     "metadata": {},
     "output_type": "display_data"
    },
    {
     "data": {
      "application/vnd.jupyter.widget-view+json": {
       "model_id": "377fde661085408ba4d8ea3d1a1b0ae9",
       "version_major": 2,
       "version_minor": 0
      },
      "text/plain": [
       "Creating json from Arrow format:   0%|          | 0/1 [00:00<?, ?ba/s]"
      ]
     },
     "metadata": {},
     "output_type": "display_data"
    },
    {
     "name": "stdout",
     "output_type": "stream",
     "text": [
      "Shard 14 traité et sauvegardé dans dataset_part_14.json.\n"
     ]
    },
    {
     "data": {
      "application/vnd.jupyter.widget-view+json": {
       "model_id": "41f872f060494549bb9707734b710c4e",
       "version_major": 2,
       "version_minor": 0
      },
      "text/plain": [
       "Map:   0%|          | 0/250 [00:00<?, ? examples/s]"
      ]
     },
     "metadata": {},
     "output_type": "display_data"
    },
    {
     "data": {
      "application/vnd.jupyter.widget-view+json": {
       "model_id": "0439d9f08ef542589bf9d2d9b12e1af5",
       "version_major": 2,
       "version_minor": 0
      },
      "text/plain": [
       "Creating json from Arrow format:   0%|          | 0/1 [00:00<?, ?ba/s]"
      ]
     },
     "metadata": {},
     "output_type": "display_data"
    },
    {
     "name": "stdout",
     "output_type": "stream",
     "text": [
      "Shard 15 traité et sauvegardé dans dataset_part_15.json.\n"
     ]
    },
    {
     "data": {
      "application/vnd.jupyter.widget-view+json": {
       "model_id": "05f56b36fc3f4cf28f0134c17fd779a0",
       "version_major": 2,
       "version_minor": 0
      },
      "text/plain": [
       "Map:   0%|          | 0/250 [00:00<?, ? examples/s]"
      ]
     },
     "metadata": {},
     "output_type": "display_data"
    },
    {
     "data": {
      "application/vnd.jupyter.widget-view+json": {
       "model_id": "ffc3baaa698944d797e7852fa2427d10",
       "version_major": 2,
       "version_minor": 0
      },
      "text/plain": [
       "Creating json from Arrow format:   0%|          | 0/1 [00:00<?, ?ba/s]"
      ]
     },
     "metadata": {},
     "output_type": "display_data"
    },
    {
     "name": "stdout",
     "output_type": "stream",
     "text": [
      "Shard 16 traité et sauvegardé dans dataset_part_16.json.\n"
     ]
    },
    {
     "data": {
      "application/vnd.jupyter.widget-view+json": {
       "model_id": "021830c841264b1b88bd729ec6679b1f",
       "version_major": 2,
       "version_minor": 0
      },
      "text/plain": [
       "Map:   0%|          | 0/250 [00:00<?, ? examples/s]"
      ]
     },
     "metadata": {},
     "output_type": "display_data"
    }
   ],
   "source": [
    "num_shards = 20\n",
    "\n",
    "for i in range(num_shards):\n",
    "    output_file = f\"dataset_part_{i}.json\"\n",
    "    \n",
    "    if os.path.exists(output_file):\n",
    "        print(f\"Le shard {i} est déjà traité, on passe au suivant.\")\n",
    "        continue\n",
    "\n",
    "    shard = dataset.shard(num_shards=num_shards, index=i)\n",
    "    processed_shard = shard.map(lambda x: {\"summary\": generate_summary(x[\"text\"])})\n",
    "    processed_shard.to_json(output_file)\n",
    "    print(f\"Shard {i} traité et sauvegardé dans {output_file}.\")"
   ]
  },
  {
   "cell_type": "code",
   "execution_count": null,
   "metadata": {},
   "outputs": [
    {
     "data": {
      "application/vnd.jupyter.widget-view+json": {
       "model_id": "0c5dd35b469d48079aee468694eefb1e",
       "version_major": 2,
       "version_minor": 0
      },
      "text/plain": [
       "Generating train split: 0 examples [00:00, ? examples/s]"
      ]
     },
     "metadata": {},
     "output_type": "display_data"
    },
    {
     "data": {
      "application/vnd.jupyter.widget-view+json": {
       "model_id": "cbbf34e5ee3147f9af45450ed4a03380",
       "version_major": 2,
       "version_minor": 0
      },
      "text/plain": [
       "Generating train split: 0 examples [00:00, ? examples/s]"
      ]
     },
     "metadata": {},
     "output_type": "display_data"
    },
    {
     "data": {
      "application/vnd.jupyter.widget-view+json": {
       "model_id": "80d2d5b078a24f9ca66dc6f9751690be",
       "version_major": 2,
       "version_minor": 0
      },
      "text/plain": [
       "Generating train split: 0 examples [00:00, ? examples/s]"
      ]
     },
     "metadata": {},
     "output_type": "display_data"
    },
    {
     "data": {
      "application/vnd.jupyter.widget-view+json": {
       "model_id": "aa762400488b4e8eb8b116e9ad39f4a5",
       "version_major": 2,
       "version_minor": 0
      },
      "text/plain": [
       "Generating train split: 0 examples [00:00, ? examples/s]"
      ]
     },
     "metadata": {},
     "output_type": "display_data"
    },
    {
     "data": {
      "application/vnd.jupyter.widget-view+json": {
       "model_id": "eff60f370c734a208766cc8f0254559d",
       "version_major": 2,
       "version_minor": 0
      },
      "text/plain": [
       "Generating train split: 0 examples [00:00, ? examples/s]"
      ]
     },
     "metadata": {},
     "output_type": "display_data"
    },
    {
     "data": {
      "application/vnd.jupyter.widget-view+json": {
       "model_id": "56da3b73cdd64c91b42742afdae2a7b6",
       "version_major": 2,
       "version_minor": 0
      },
      "text/plain": [
       "Generating train split: 0 examples [00:00, ? examples/s]"
      ]
     },
     "metadata": {},
     "output_type": "display_data"
    },
    {
     "data": {
      "application/vnd.jupyter.widget-view+json": {
       "model_id": "3e95ef20729f47368a13f0b5243a01b8",
       "version_major": 2,
       "version_minor": 0
      },
      "text/plain": [
       "Generating train split: 0 examples [00:00, ? examples/s]"
      ]
     },
     "metadata": {},
     "output_type": "display_data"
    },
    {
     "data": {
      "application/vnd.jupyter.widget-view+json": {
       "model_id": "7a805807291a45e0bfbfa300fc7d9be6",
       "version_major": 2,
       "version_minor": 0
      },
      "text/plain": [
       "Generating train split: 0 examples [00:00, ? examples/s]"
      ]
     },
     "metadata": {},
     "output_type": "display_data"
    },
    {
     "data": {
      "application/vnd.jupyter.widget-view+json": {
       "model_id": "5dca117a42454c269976937ded1deeb9",
       "version_major": 2,
       "version_minor": 0
      },
      "text/plain": [
       "Generating train split: 0 examples [00:00, ? examples/s]"
      ]
     },
     "metadata": {},
     "output_type": "display_data"
    },
    {
     "data": {
      "application/vnd.jupyter.widget-view+json": {
       "model_id": "453e94905cfa4638bdeedd68167e5188",
       "version_major": 2,
       "version_minor": 0
      },
      "text/plain": [
       "Generating train split: 0 examples [00:00, ? examples/s]"
      ]
     },
     "metadata": {},
     "output_type": "display_data"
    },
    {
     "data": {
      "application/vnd.jupyter.widget-view+json": {
       "model_id": "76888e2c9b2341a59a53ec792fd7275f",
       "version_major": 2,
       "version_minor": 0
      },
      "text/plain": [
       "Generating train split: 0 examples [00:00, ? examples/s]"
      ]
     },
     "metadata": {},
     "output_type": "display_data"
    },
    {
     "data": {
      "application/vnd.jupyter.widget-view+json": {
       "model_id": "1ba22e4dc173492baa92cd11674c295e",
       "version_major": 2,
       "version_minor": 0
      },
      "text/plain": [
       "Generating train split: 0 examples [00:00, ? examples/s]"
      ]
     },
     "metadata": {},
     "output_type": "display_data"
    },
    {
     "data": {
      "application/vnd.jupyter.widget-view+json": {
       "model_id": "6bbf0a2591cd4229a62e72ba1feedfa9",
       "version_major": 2,
       "version_minor": 0
      },
      "text/plain": [
       "Generating train split: 0 examples [00:00, ? examples/s]"
      ]
     },
     "metadata": {},
     "output_type": "display_data"
    },
    {
     "data": {
      "application/vnd.jupyter.widget-view+json": {
       "model_id": "c59e4349d723457994ad477d5f92da39",
       "version_major": 2,
       "version_minor": 0
      },
      "text/plain": [
       "Generating train split: 0 examples [00:00, ? examples/s]"
      ]
     },
     "metadata": {},
     "output_type": "display_data"
    },
    {
     "data": {
      "application/vnd.jupyter.widget-view+json": {
       "model_id": "bc99cdb5b17a448abe2747cf1655f293",
       "version_major": 2,
       "version_minor": 0
      },
      "text/plain": [
       "Generating train split: 0 examples [00:00, ? examples/s]"
      ]
     },
     "metadata": {},
     "output_type": "display_data"
    },
    {
     "data": {
      "application/vnd.jupyter.widget-view+json": {
       "model_id": "86f7677cdd244ab08523bd84fea3fb00",
       "version_major": 2,
       "version_minor": 0
      },
      "text/plain": [
       "Generating train split: 0 examples [00:00, ? examples/s]"
      ]
     },
     "metadata": {},
     "output_type": "display_data"
    },
    {
     "data": {
      "application/vnd.jupyter.widget-view+json": {
       "model_id": "bb5ca9aed0294113965f60e41b77071d",
       "version_major": 2,
       "version_minor": 0
      },
      "text/plain": [
       "Generating train split: 0 examples [00:00, ? examples/s]"
      ]
     },
     "metadata": {},
     "output_type": "display_data"
    },
    {
     "data": {
      "application/vnd.jupyter.widget-view+json": {
       "model_id": "54415523af7e49adb9e62d5e1d8464ac",
       "version_major": 2,
       "version_minor": 0
      },
      "text/plain": [
       "Generating train split: 0 examples [00:00, ? examples/s]"
      ]
     },
     "metadata": {},
     "output_type": "display_data"
    },
    {
     "data": {
      "application/vnd.jupyter.widget-view+json": {
       "model_id": "3f71ae42e2e2420ab633392c01c940f4",
       "version_major": 2,
       "version_minor": 0
      },
      "text/plain": [
       "Generating train split: 0 examples [00:00, ? examples/s]"
      ]
     },
     "metadata": {},
     "output_type": "display_data"
    },
    {
     "data": {
      "application/vnd.jupyter.widget-view+json": {
       "model_id": "05ccb60fe24d49a1a1dafdeabbb7333b",
       "version_major": 2,
       "version_minor": 0
      },
      "text/plain": [
       "Generating train split: 0 examples [00:00, ? examples/s]"
      ]
     },
     "metadata": {},
     "output_type": "display_data"
    },
    {
     "data": {
      "application/vnd.jupyter.widget-view+json": {
       "model_id": "2f9e7cc08ed040da9e54b0975ae8d597",
       "version_major": 2,
       "version_minor": 0
      },
      "text/plain": [
       "Creating json from Arrow format:   0%|          | 0/5 [00:00<?, ?ba/s]"
      ]
     },
     "metadata": {},
     "output_type": "display_data"
    },
    {
     "name": "stdout",
     "output_type": "stream",
     "text": [
      "Dataset fusionné et sauvegardé dans merged_dataset.json\n"
     ]
    }
   ],
   "source": [
    "import os\n",
    "from datasets import load_dataset, concatenate_datasets\n",
    "\n",
    "num_shards = 20\n",
    "shard_files = []\n",
    "\n",
    "# Récupérer la liste des fichiers existants\n",
    "for i in range(num_shards):\n",
    "    file_path = f\"dataset_part_{i}.json\"\n",
    "    if os.path.exists(file_path):\n",
    "        shard_files.append(file_path)\n",
    "    else:\n",
    "        print(f\"Shard {i} introuvable.\")\n",
    "\n",
    "if not shard_files:\n",
    "    print(\"Aucun shard trouvé.\")\n",
    "else:\n",
    "    # Charger chaque shard dans une liste de Dataset\n",
    "    datasets_list = [load_dataset(\"json\", data_files=file_path)[\"train\"] for file_path in shard_files]\n",
    "    # Fusionner les datasets\n",
    "    merged_dataset = concatenate_datasets(datasets_list)\n",
    "    \n",
    "    # Sauvegarder le dataset fusionné dans un nouveau fichier JSON\n",
    "    merged_dataset.to_json(\"merged_dataset.json\")\n",
    "    print(\"Dataset fusionné et sauvegardé dans merged_dataset.json\")\n"
   ]
  },
  {
   "cell_type": "code",
   "execution_count": null,
   "metadata": {},
   "outputs": [
    {
     "name": "stdout",
     "output_type": "stream",
     "text": [
      "Dataset({\n",
      "    features: ['text', 'token_length', 'summary'],\n",
      "    num_rows: 100\n",
      "})\n"
     ]
    }
   ],
   "source": [
    "print(dataset)"
   ]
  },
  {
   "cell_type": "code",
   "execution_count": null,
   "metadata": {},
   "outputs": [
    {
     "data": {
      "application/vnd.jupyter.widget-view+json": {
       "model_id": "2abc4f3758cc47a18dbc96e8b7bc7d6b",
       "version_major": 2,
       "version_minor": 0
      },
      "text/plain": [
       "Creating json from Arrow format:   0%|          | 0/1 [00:00<?, ?ba/s]"
      ]
     },
     "metadata": {},
     "output_type": "display_data"
    },
    {
     "data": {
      "text/plain": [
       "485812"
      ]
     },
     "metadata": {},
     "output_type": "display_data"
    }
   ],
   "source": [
    "dataset.to_json(\"summarization_dataset.json\")\n"
   ]
  },
  {
   "cell_type": "code",
   "execution_count": null,
   "metadata": {},
   "outputs": [],
   "source": [
    "n_total = 5000\n",
    "\n",
    "dataset_mlsum = load_dataset(\"mlsum\", \"fr\", cache_dir=\"/Data/gabriel-mercier/hf_datasets\")\n",
    "#dataset_wiki = load_dataset(\"wikipedia\", \"20220301.fr\", cache_dir=\"/Data/gabriel-mercier/hf_datasets\")\n",
    "\n",
    "dataset_init = dataset_mlsum['train'].shuffle(seed=42).select(range(5000)) \n",
    "dataset = dataset_init.select_columns(['text'])"
   ]
  },
  {
   "cell_type": "code",
   "execution_count": null,
   "metadata": {},
   "outputs": [
    {
     "name": "stdout",
     "output_type": "stream",
     "text": [
      "Dataset({\n",
      "    features: ['text'],\n",
      "    num_rows: 5000\n",
      "})\n"
     ]
    }
   ],
   "source": [
    "print(dataset)"
   ]
  },
  {
   "cell_type": "code",
   "execution_count": null,
   "metadata": {},
   "outputs": [],
   "source": [
    "llm_name = \"Qwen/Qwen2.5-32B-Instruct\"\n",
    "tokenizer_llm = AutoTokenizer.from_pretrained(llm_name, \n",
    "                                          cache_dir=\"/Data/gabriel-mercier/hf_models\",\n",
    "                                          padding_side='left') #auto reggressive llm"
   ]
  },
  {
   "cell_type": "code",
   "execution_count": null,
   "metadata": {},
   "outputs": [
    {
     "data": {
      "application/vnd.jupyter.widget-view+json": {
       "model_id": "006d647859974c4fae18f50b4383df18",
       "version_major": 2,
       "version_minor": 0
      },
      "text/plain": [
       "Map:   0%|          | 0/5000 [00:00<?, ? examples/s]"
      ]
     },
     "metadata": {},
     "output_type": "display_data"
    },
    {
     "data": {
      "text/plain": [
       "Text(0.5, 1.0, 'Distibution')"
      ]
     },
     "metadata": {},
     "output_type": "display_data"
    },
    {
     "data": {
      "image/png": "[encoded data removed]",
      "text/plain": [
       "<Figure size 640x480 with 1 Axes>"
      ]
     },
     "metadata": {},
     "output_type": "display_data"
    }
   ],
   "source": [
    "def get_token_length(example):\n",
    "    tokens = tokenizer_llm(example[\"text\"], truncation=True, max_length=6000)[\"input_ids\"]\n",
    "    return {\"token_length\": len(tokens)}\n",
    "\n",
    "dataset_token = dataset.map(get_token_length)\n",
    "\n",
    "plt.hist(dataset_token[\"token_length\"], bins=100)\n",
    "plt.xlabel(\"Number of tokens\")\n",
    "plt.ylabel(\"Total\")\n",
    "plt.title(\"Distibution\")"
   ]
  },
  {
   "cell_type": "code",
   "execution_count": null,
   "metadata": {},
   "outputs": [
    {
     "ename": "NameError",
     "evalue": "name 'torch' is not defined",
     "output_type": "error",
     "traceback": [
      "\u001b[0;31m---------------------------------------------------------------------------\u001b[0m\n",
      "\u001b[0;31mNameError\u001b[0m                                 Traceback (most recent call last)\n",
      "Cell \u001b[0;32mIn[2], line 2\u001b[0m\n",
      "\u001b[1;32m      1\u001b[0m max_length \u001b[38;5;241m=\u001b[39m \u001b[38;5;241m2500\u001b[39m\n",
      "\u001b[0;32m----> 2\u001b[0m \u001b[43mtorch\u001b[49m\u001b[38;5;241m.\u001b[39mcuda\u001b[38;5;241m.\u001b[39mempty_cache()\n",
      "\n",
      "\u001b[0;31mNameError\u001b[0m: name 'torch' is not defined"
     ]
    }
   ],
   "source": [
    "max_length = 2500"
   ]
  },
  {
   "cell_type": "code",
   "execution_count": null,
   "metadata": {},
   "outputs": [],
   "source": []
  }
 ],
 "metadata": {
  "kernelspec": {
   "display_name": ".venv",
   "language": "python",
   "name": "python3"
  },
  "language_info": {
   "codemirror_mode": {
    "name": "ipython",
    "version": 3
   },
   "file_extension": ".py",
   "mimetype": "text/x-python",
   "name": "python",
   "nbconvert_exporter": "python",
   "pygments_lexer": "ipython3",
   "version": "3.9.21"
  }
 },
 "nbformat": 4,
 "nbformat_minor": 2
}
