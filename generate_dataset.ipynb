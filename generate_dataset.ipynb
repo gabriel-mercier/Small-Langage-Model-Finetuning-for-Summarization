{
 "cells": [
  {
   "cell_type": "code",
   "execution_count": 2,
   "metadata": {},
   "outputs": [],
   "source": [
    "import torch\n",
    "from datasets import load_dataset\n",
    "from transformers import AutoTokenizer\n",
    "from datasets import load_dataset\n",
    "from transformers import AutoModelForCausalLM, AutoTokenizer, BitsAndBytesConfig\n",
    "import torch\n",
    "import matplotlib.pyplot as plt\n",
    "from datasets import load_dataset\n",
    "import os\n",
    "from utils import prepare_prompt"
   ]
  },
  {
   "cell_type": "markdown",
   "metadata": {},
   "source": [
    "# Dataset Selection"
   ]
  },
  {
   "cell_type": "code",
   "execution_count": 3,
   "metadata": {},
   "outputs": [],
   "source": [
    "n_total = 5000\n",
    "\n",
    "dataset_mlsum = load_dataset(\"mlsum\", \"fr\", cache_dir=\"/Data/gabriel-mercier/hf_datasets\")\n",
    "#dataset_wiki = load_dataset(\"wikipedia\", \"20220301.fr\", cache_dir=\"/Data/gabriel-mercier/hf_datasets\")\n",
    "\n",
    "dataset_init = dataset_mlsum['train'].shuffle(seed=42).select(range(5000)) \n",
    "dataset = dataset_init.select_columns(['text'])"
   ]
  },
  {
   "cell_type": "code",
   "execution_count": 4,
   "metadata": {},
   "outputs": [
    {
     "name": "stdout",
     "output_type": "stream",
     "text": [
      "Dataset({\n",
      "    features: ['text'],\n",
      "    num_rows: 5000\n",
      "})\n",
      "Deux personnels de santé saoudiens ont été infectés par le nouveau coronavirus proche du SRAS dont des patients hospitalisés étaient porteurs, a indiqué l'OMS mercredi. AFP/FAYEZ NURELDINE Deux personnels de santé saoudiens ont été infectés par le nouveau coronavirus proche du SRAS dont des patients hospitalisés étaient porteurs, a indiqué l'Organisation mondiale de la santé (OMS) mercredi 15 mai. \"C'est la première fois qu'une infection par le nouveau coronavirus a été diagnostiquée chez des personnels de santé après un contact avec des patients\", a relevé l'OMS dans un communiqué. Les deux personnels de santé infectés figurent parmi six patients porteurs du nouveau coronavirus déclarés mardi par le ministère de la santé saoudien. Si le nouvel agent infectieux a été diagnostiqué chez d'autres personnels de santé en Jordanie, il n'est pour l'instant pas prouvé qu'ils l'ont contracté auprès de patients, selon l'OMS. \"C'est la première fois que nous avons une preuve assez solide et rapide d'une telle infection, a expliqué un porte-parole de l'organisation basée à Genève. Les services de santé qui prodiguent des soins à des patients présumés porteurs du nouveau coronavirus doivent prendre des mesures appropriées pour diminuer le risque de transmission du virus à d'autres patients ou à des personnels de santé.\" L'OMS APPELLE À LA VIGILANCE L'un des deux patients saoudiens dont la contamination par le nouveau coronavirus a été établie par des analyses de laboratoire est un homme âgé de 45 ans, tombé malade le 2 mai et qui se trouve actuellement dans un état critique. L'autre est une femme de 43 ans, tombée malade le 8 mai et dont l'état de santé est stationnaire. Le nouveau coronavirus provoque de graves troubles respiratoires.\n"
     ]
    }
   ],
   "source": [
    "print(dataset)\n",
    "print(dataset['text'][3538])\n",
    "\n",
    "# texts = dataset['text']\n",
    "# for i in range(len(texts)):\n",
    "#     t = texts[i]\n",
    "#     if 'coronavirus' in t and len(t) < 6000:\n",
    "#         print(t)\n",
    "#         print(i)"
   ]
  },
  {
   "cell_type": "code",
   "execution_count": 5,
   "metadata": {},
   "outputs": [],
   "source": [
    "llm_name = \"Qwen/Qwen2.5-32B-Instruct\"\n",
    "tokenizer_llm = AutoTokenizer.from_pretrained(llm_name, \n",
    "                                          cache_dir=\"/Data/gabriel-mercier/hf_models\",\n",
    "                                          padding_side='left') #auto reggressive llm"
   ]
  },
  {
   "cell_type": "code",
   "execution_count": 6,
   "metadata": {},
   "outputs": [
    {
     "data": {
      "text/plain": [
       "Text(0.5, 1.0, 'Distibution')"
      ]
     },
     "execution_count": 6,
     "metadata": {},
     "output_type": "execute_result"
    },
    {
     "data": {
      "image/png": "[encoded data removed]",
      "text/plain": [
       "<Figure size 640x480 with 1 Axes>"
      ]
     },
     "metadata": {},
     "output_type": "display_data"
    }
   ],
   "source": [
    "def get_token_length(example):\n",
    "    tokens = tokenizer_llm(example[\"text\"], truncation=True, max_length=6000)[\"input_ids\"]\n",
    "    return {\"token_length\": len(tokens)}\n",
    "\n",
    "dataset_token = dataset.map(get_token_length)\n",
    "\n",
    "plt.hist(dataset_token[\"token_length\"], bins=150)\n",
    "plt.xlim(0, 2500)\n",
    "plt.xlabel(\"Number of tokens\")\n",
    "plt.ylabel(\"Total\")\n",
    "plt.title(\"Distibution\")"
   ]
  },
  {
   "cell_type": "code",
   "execution_count": 7,
   "metadata": {},
   "outputs": [
    {
     "name": "stdout",
     "output_type": "stream",
     "text": [
      "average token length: 927.0622\n",
      "441\n"
     ]
    }
   ],
   "source": [
    "print('average token length:', sum(dataset_token[\"token_length\"]) / len(dataset_token[\"token_length\"]))\n",
    "print(dataset_token['token_length'][3538])\n"
   ]
  },
  {
   "cell_type": "code",
   "execution_count": 8,
   "metadata": {},
   "outputs": [],
   "source": [
    "max_length = 2500"
   ]
  },
  {
   "cell_type": "markdown",
   "metadata": {},
   "source": [
    "# Dataset Annotation"
   ]
  },
  {
   "cell_type": "code",
   "execution_count": 9,
   "metadata": {},
   "outputs": [
    {
     "name": "stdout",
     "output_type": "stream",
     "text": [
      "Wed Mar 12 14:33:10 2025       \n",
      "+-----------------------------------------------------------------------------------------+\n",
      "| NVIDIA-SMI 570.124.04             Driver Version: 570.124.04     CUDA Version: 12.8     |\n",
      "|-----------------------------------------+------------------------+----------------------+\n",
      "| GPU  Name                 Persistence-M | Bus-Id          Disp.A | Volatile Uncorr. ECC |\n",
      "| Fan  Temp   Perf          Pwr:Usage/Cap |           Memory-Usage | GPU-Util  Compute M. |\n",
      "|                                         |                        |               MIG M. |\n",
      "|=========================================+========================+======================|\n",
      "|   0  NVIDIA RTX A5000               Off |   00000000:01:00.0 Off |                  Off |\n",
      "| 30%   32C    P8             20W /  230W |     149MiB /  24564MiB |      0%      Default |\n",
      "|                                         |                        |                  N/A |\n",
      "+-----------------------------------------+------------------------+----------------------+\n",
      "                                                                                         \n",
      "+-----------------------------------------------------------------------------------------+\n",
      "| Processes:                                                                              |\n",
      "|  GPU   GI   CI              PID   Type   Process name                        GPU Memory |\n",
      "|        ID   ID                                                               Usage      |\n",
      "|=========================================================================================|\n",
      "|    0   N/A  N/A         2379867      G   /usr/libexec/Xorg                        94MiB |\n",
      "|    0   N/A  N/A         2379892      G   /usr/bin/gnome-shell                     19MiB |\n",
      "+-----------------------------------------------------------------------------------------+\n"
     ]
    }
   ],
   "source": [
    "!nvidia-smi"
   ]
  },
  {
   "cell_type": "code",
   "execution_count": 10,
   "metadata": {},
   "outputs": [
    {
     "name": "stdout",
     "output_type": "stream",
     "text": [
      "cuda\n"
     ]
    }
   ],
   "source": [
    "device = torch.device('cuda' if torch.cuda.is_available() else 'cpu')\n",
    "print(device)"
   ]
  },
  {
   "cell_type": "code",
   "execution_count": 11,
   "metadata": {},
   "outputs": [
    {
     "name": "stderr",
     "output_type": "stream",
     "text": [
      "Sliding Window Attention is enabled but not implemented for `sdpa`; unexpected results may be encountered.\n",
      "Loading checkpoint shards: 100%|██████████| 17/17 [00:17<00:00,  1.03s/it]\n"
     ]
    }
   ],
   "source": [
    "bnb_config = BitsAndBytesConfig(\n",
    "    load_in_4bit=True,  \n",
    "    bnb_4bit_compute_dtype=torch.float16, \n",
    "    bnb_4bit_use_double_quant=True,  \n",
    "    bnb_4bit_quant_type=\"nf4\"\n",
    ")\n",
    "\n",
    "model_llm = AutoModelForCausalLM.from_pretrained(\n",
    "    llm_name,\n",
    "    cache_dir=\"/Data/gabriel-mercier/hf_models\",\n",
    "    quantization_config=bnb_config, \n",
    "    device_map=\"auto\"  \n",
    ")"
   ]
  },
  {
   "cell_type": "code",
   "execution_count": 12,
   "metadata": {},
   "outputs": [],
   "source": [
    "summary_num_tokens = 250\n",
    "\n",
    "def generate_summary(text):\n",
    "    prompt = prepare_prompt({'text':text}, summary_included=False)\n",
    "    inputs = tokenizer_llm(prompt, return_tensors=\"pt\", truncation=True, max_length=max_length).to(model_llm.device)\n",
    "    prompt_length = inputs.input_ids.shape[-1] \n",
    "    \n",
    "    with torch.no_grad():\n",
    "        output = model_llm.generate(**inputs, max_new_tokens=summary_num_tokens)\n",
    "    \n",
    "    generated_tokens = output[0][prompt_length:]\n",
    "    summary = tokenizer_llm.decode(generated_tokens, skip_special_tokens=True)\n",
    "    summary = summary.split(\"\\n\")\n",
    "    summary = next((s for s in summary if s.strip()), None)\n",
    "    summary_split = summary.split()\n",
    "    summary = \" \".join(summary_split[:125])\n",
    "    return summary"
   ]
  },
  {
   "cell_type": "code",
   "execution_count": 13,
   "metadata": {},
   "outputs": [
    {
     "name": "stdout",
     "output_type": "stream",
     "text": [
      "Deux personnels de santé saoudiens ont été infectés par le nouveau coronavirus proche du SRAS dont des patients hospitalisés étaient porteurs, a indiqué l'OMS mercredi. AFP/FAYEZ NURELDINE Deux personnels de santé saoudiens ont été infectés par le nouveau coronavirus proche du SRAS dont des patients hospitalisés étaient porteurs, a indiqué l'Organisation mondiale de la santé (OMS) mercredi 15 mai. \"C'est la première fois qu'une infection par le nouveau coronavirus a été diagnostiquée chez des personnels de santé après un contact avec des patients\", a relevé l'OMS dans un communiqué. Les deux personnels de santé infectés figurent parmi six patients porteurs du nouveau coronavirus déclarés mardi par le ministère de la santé saoudien. Si le nouvel agent infectieux a été diagnostiqué chez d'autres personnels de santé en Jordanie, il n'est pour l'instant pas prouvé qu'ils l'ont contracté auprès de patients, selon l'OMS. \"C'est la première fois que nous avons une preuve assez solide et rapide d'une telle infection, a expliqué un porte-parole de l'organisation basée à Genève. Les services de santé qui prodiguent des soins à des patients présumés porteurs du nouveau coronavirus doivent prendre des mesures appropriées pour diminuer le risque de transmission du virus à d'autres patients ou à des personnels de santé.\" L'OMS APPELLE À LA VIGILANCE L'un des deux patients saoudiens dont la contamination par le nouveau coronavirus a été établie par des analyses de laboratoire est un homme âgé de 45 ans, tombé malade le 2 mai et qui se trouve actuellement dans un état critique. L'autre est une femme de 43 ans, tombée malade le 8 mai et dont l'état de santé est stationnaire. Le nouveau coronavirus provoque de graves troubles respiratoires.\n",
      "Summary : L'OMS a annoncé mercredi que deux personnels de santé saoudiens ont été infectés par le nouveau coronavirus proche du SRAS, après contact avec des patients. C'est la première fois qu'une telle infection est prouvée chez des professionnels de santé. Le virus cause des troubles respiratoires graves. L'OMS appelle les services de santé à prendre des mesures pour réduire le risque de transmission. Parmi les six cas déclarés au total, un homme de 45 ans est dans un état critique et une femme de 43 ans, dans un état stable. Le virus a été identifié chez d'autres personnels de santé en Jordanie, mais la transmission n'est pas encore prouvée. L'OMS recommande des précautions renforcées lors des soins aux patients infectés.\n",
      "119\n",
      "Les Sierra-Léonais ont repris lundi 22 septembre une vie normale après trois jours de confinement. AFP/CARL DE SOUZA Les Sierra-Léonais reprenaient lundi 22 septembre une vie normale après trois jours de confinement contre l'épidémie d'Ebola. Les autorités ont dressé un premier bilan de cette opération inédite, annonçant avoir découvert 150 nouveaux cas d'Ebola, et 70 cadavres dans et autour de Freetown, la capitale du pays. Le ministre de la santé, Abubakarr Fofanah, a déclaré que les agents commis pour cette opération avaient réussi à visiter 80 % des maisons, estimant qu'elle avait été un succès. « Nous avons appris beaucoup de choses durant cette campagne qui est terminée, mais c'est possible qu'elle soit reconduite », a-t-il dit, sans avancer de date. Lire le reportage (édition abonnés) : En Sierra Leone, avec les patrouilles de volontaires anti-Ebola ARRÊT DES « INHUMATIONS NOCTURNES » M. Fofanah a expliqué que l'un des succès de cette opération avait été l'arrêt des « inhumations nocturnes », des pratiques auxquelles se livrent des familles pour dissimuler la mort de leurs membres infectés par le virus Ebola. En Sierra Leone, où 562 personnes ont déjà succombé au virus Ebola, les six millions d'habitants ont été assignés à domicile vendredi, samedi et dimanche. L'épidémie a fait plus de 2 600 morts en Sierra Leone, au Liberia et en Guinée depuis le début de l'année. Le missionnaire catholique contaminé par le virus en Sierra Leone, deuxième ressortissant espagnol à être touché, a été rapatrié dans la nuit de dimanche à lundi à Madrid, où il est hospitalisé « dans un état grave », ont annoncé les services médicaux. Frère Manuel Garcia Viejo, âgé de 69 ans, souffre d'une « importante déshydratation », et son foie et ses reins sont également touchés, selon le docteur Francisco Arnalich, chef du service de médecine interne de l'hôpital de La Paz, dont dépend l'hôpital Carlos III. Voir aussi : Comprendre le virus Ebola en moins de trois minutes\n",
      "Summary : Après trois jours de confinement, les Sierra-Léonais ont repris une vie normale le 22 septembre. Les autorités ont découvert 150 nouveaux cas d'Ebola et 70 cadavres à Freetown. Le ministre de la santé a estimé l'opération réussie, avec 80% des foyers visités. Elle a permis d'éradiquer les \"inhumations nocturnes\". L'épidémie a causé plus de 2 600 morts en Afrique de l'Ouest. Un missionnaire espagnol contaminé a été rapatrié à Madrid dans un état grave.\n",
      "74\n",
      "Le cheikh Jaber Al-Moubarak Al-Hamad Al-Sabah a été nommé premier ministre par l'émir du Koweït, le 30 novembre. Reuters/CHARLES PLATIAU Le nouveau premier ministre koweïtien, cheikh Jaber Moubarak Al-Sabah, a formé, mardi 13 décembre, un gouvernement qui ne compte que dix ministres, pour la plupart déjà membres de l'équipe qui a démissionné il y a deux semaines sur fond d'accusations de corruption. Tous les ministres clés du précédent gouvernement restent en place, à l'exception de trois ministres qui avaient démissionné quelques jours avant leurs collègues. Cheikh Ahmad Al-Houmoud Al-Sabah garde ainsi le portefeuille de l'intérieur, auquel s'ajoute désormais celui de la défense, jusqu'à présent tenu par cheikh Jaber. Cheikh Sabah Khaled Al-Sabah reste lui aussi au ministère des affaires étrangères. Les ministres des finances, du pétrole, de l'électricité et de l'eau restent aussi en place. L'ancien premier ministre, cheikh Nasser Mohammed Al-Ahmad Al-Sabah, un éminent membre de la famille régnante accusé par l'opposition de corruption, a démissionné le 28 novembre après des mois de mobilisation contre lui par l'opposition. Une semaine plus tard, face à la mobilisation de cette opposition, l'émir du Koweït, cheikh Sabah Al-Ahmad Al-Sabah, a dissous le Parlement pour la quatrième fois en moins de six ans, à la suite de manifestations sans précédent dans ce riche émirat pétrolier du Golfe. VIREMENTS ILLÉGAUX La campagne pour le limogeage de l'ancien premier ministre, lancée en mars, s'était intensifiée en août après des accusations selon lesquelles une quinzaine de députés proches du gouvernement ont obtenu des virements illégaux sur leurs comptes bancaires, estimés par l'opposition à 350 millions de dollars. En septembre, le parquet avait ouvert une enquête sans précédent sur les comptes bancaires des suspects. Le Koweït, troisième producteur de l'OPEP, a été secoué par des crises politiques à répétition depuis la nomination de cheikh Nasser, un neveu de l'émir, à la tête du gouvernement en février 2006, entravant le développement de l'émirat malgré sa richesse pétrolière. Sous cheikh Nasser, le gouvernement a démissionné à sept reprises et le Parlement a été dissous trois fois en 2006, 2008 et 2009. Les prochaines élections doivent se tenir dans un délai de soixante jours après la dissolution.\n",
      "Summary : Le cheikh Jaber Al-Moubarak Al-Hamad Al-Sabah a été nommé Premier ministre du Koweït le 30 novembre. Le 13 décembre, il a formé un gouvernement de 10 ministres, conservant la majorité des membres précédents malgré des accusations de corruption. L'ancien Premier ministre, cheikh Nasser, avait démissionné le 28 novembre sous pression de l'opposition. Le 7 décembre, l'émir a dissous le Parlement pour la quatrième fois en moins de six ans. Cette crise politique survient après des accusations de virements illégaux vers des députés proches du gouvernement. Le Koweït a connu plusieurs crises politiques depuis 2006 sous la présidence de cheikh Nasser. Des élections législatives auront lieu dans les 60 jours.\n",
      "109\n"
     ]
    }
   ],
   "source": [
    "examplesidx = [3538, 3539, 3540]\n",
    "for i in examplesidx:\n",
    "    data = dataset[i]\n",
    "    text = data['text']\n",
    "    print(text)\n",
    "    summary = generate_summary(text)\n",
    "    print(\"Summary :\", summary)\n",
    "    print(len(summary.split()))"
   ]
  },
  {
   "cell_type": "code",
   "execution_count": null,
   "metadata": {},
   "outputs": [
    {
     "name": "stdout",
     "output_type": "stream",
     "text": [
      "Le shard 0 est déjà traité, on passe au suivant.\n",
      "Le shard 1 est déjà traité, on passe au suivant.\n",
      "Le shard 2 est déjà traité, on passe au suivant.\n",
      "Le shard 3 est déjà traité, on passe au suivant.\n",
      "Le shard 4 est déjà traité, on passe au suivant.\n",
      "Le shard 5 est déjà traité, on passe au suivant.\n",
      "Le shard 6 est déjà traité, on passe au suivant.\n",
      "Le shard 7 est déjà traité, on passe au suivant.\n",
      "Le shard 8 est déjà traité, on passe au suivant.\n",
      "Le shard 9 est déjà traité, on passe au suivant.\n",
      "Le shard 10 est déjà traité, on passe au suivant.\n"
     ]
    },
    {
     "data": {
      "application/vnd.jupyter.widget-view+json": {
       "model_id": "f0d985d07b364e5d909fdeba84279528",
       "version_major": 2,
       "version_minor": 0
      },
      "text/plain": [
       "Map:   0%|          | 0/250 [00:00<?, ? examples/s]"
      ]
     },
     "metadata": {},
     "output_type": "display_data"
    },
    {
     "data": {
      "application/vnd.jupyter.widget-view+json": {
       "model_id": "2b7f46d386874a1e9ed9672f71a3391c",
       "version_major": 2,
       "version_minor": 0
      },
      "text/plain": [
       "Creating json from Arrow format:   0%|          | 0/1 [00:00<?, ?ba/s]"
      ]
     },
     "metadata": {},
     "output_type": "display_data"
    },
    {
     "name": "stdout",
     "output_type": "stream",
     "text": [
      "Shard 11 traité et sauvegardé dans dataset_part_11.json.\n"
     ]
    },
    {
     "data": {
      "application/vnd.jupyter.widget-view+json": {
       "model_id": "ae69d02b0ad645b1b0b327b2d3d24948",
       "version_major": 2,
       "version_minor": 0
      },
      "text/plain": [
       "Map:   0%|          | 0/250 [00:00<?, ? examples/s]"
      ]
     },
     "metadata": {},
     "output_type": "display_data"
    },
    {
     "data": {
      "application/vnd.jupyter.widget-view+json": {
       "model_id": "6bf63373997346b890ac1adc57987258",
       "version_major": 2,
       "version_minor": 0
      },
      "text/plain": [
       "Creating json from Arrow format:   0%|          | 0/1 [00:00<?, ?ba/s]"
      ]
     },
     "metadata": {},
     "output_type": "display_data"
    },
    {
     "name": "stdout",
     "output_type": "stream",
     "text": [
      "Shard 12 traité et sauvegardé dans dataset_part_12.json.\n"
     ]
    },
    {
     "data": {
      "application/vnd.jupyter.widget-view+json": {
       "model_id": "4c3c69d3dfc24015b1340b3f7efe2301",
       "version_major": 2,
       "version_minor": 0
      },
      "text/plain": [
       "Map:   0%|          | 0/250 [00:00<?, ? examples/s]"
      ]
     },
     "metadata": {},
     "output_type": "display_data"
    },
    {
     "data": {
      "application/vnd.jupyter.widget-view+json": {
       "model_id": "0ab4622abaf84395ae63b13d0ef6dc94",
       "version_major": 2,
       "version_minor": 0
      },
      "text/plain": [
       "Creating json from Arrow format:   0%|          | 0/1 [00:00<?, ?ba/s]"
      ]
     },
     "metadata": {},
     "output_type": "display_data"
    },
    {
     "name": "stdout",
     "output_type": "stream",
     "text": [
      "Shard 13 traité et sauvegardé dans dataset_part_13.json.\n"
     ]
    },
    {
     "data": {
      "application/vnd.jupyter.widget-view+json": {
       "model_id": "86c5045e8c634bbf96c1ca70ee93f997",
       "version_major": 2,
       "version_minor": 0
      },
      "text/plain": [
       "Map:   0%|          | 0/250 [00:00<?, ? examples/s]"
      ]
     },
     "metadata": {},
     "output_type": "display_data"
    },
    {
     "data": {
      "application/vnd.jupyter.widget-view+json": {
       "model_id": "377fde661085408ba4d8ea3d1a1b0ae9",
       "version_major": 2,
       "version_minor": 0
      },
      "text/plain": [
       "Creating json from Arrow format:   0%|          | 0/1 [00:00<?, ?ba/s]"
      ]
     },
     "metadata": {},
     "output_type": "display_data"
    },
    {
     "name": "stdout",
     "output_type": "stream",
     "text": [
      "Shard 14 traité et sauvegardé dans dataset_part_14.json.\n"
     ]
    },
    {
     "data": {
      "application/vnd.jupyter.widget-view+json": {
       "model_id": "41f872f060494549bb9707734b710c4e",
       "version_major": 2,
       "version_minor": 0
      },
      "text/plain": [
       "Map:   0%|          | 0/250 [00:00<?, ? examples/s]"
      ]
     },
     "metadata": {},
     "output_type": "display_data"
    },
    {
     "data": {
      "application/vnd.jupyter.widget-view+json": {
       "model_id": "0439d9f08ef542589bf9d2d9b12e1af5",
       "version_major": 2,
       "version_minor": 0
      },
      "text/plain": [
       "Creating json from Arrow format:   0%|          | 0/1 [00:00<?, ?ba/s]"
      ]
     },
     "metadata": {},
     "output_type": "display_data"
    },
    {
     "name": "stdout",
     "output_type": "stream",
     "text": [
      "Shard 15 traité et sauvegardé dans dataset_part_15.json.\n"
     ]
    },
    {
     "data": {
      "application/vnd.jupyter.widget-view+json": {
       "model_id": "05f56b36fc3f4cf28f0134c17fd779a0",
       "version_major": 2,
       "version_minor": 0
      },
      "text/plain": [
       "Map:   0%|          | 0/250 [00:00<?, ? examples/s]"
      ]
     },
     "metadata": {},
     "output_type": "display_data"
    },
    {
     "data": {
      "application/vnd.jupyter.widget-view+json": {
       "model_id": "ffc3baaa698944d797e7852fa2427d10",
       "version_major": 2,
       "version_minor": 0
      },
      "text/plain": [
       "Creating json from Arrow format:   0%|          | 0/1 [00:00<?, ?ba/s]"
      ]
     },
     "metadata": {},
     "output_type": "display_data"
    },
    {
     "name": "stdout",
     "output_type": "stream",
     "text": [
      "Shard 16 traité et sauvegardé dans dataset_part_16.json.\n"
     ]
    },
    {
     "data": {
      "application/vnd.jupyter.widget-view+json": {
       "model_id": "021830c841264b1b88bd729ec6679b1f",
       "version_major": 2,
       "version_minor": 0
      },
      "text/plain": [
       "Map:   0%|          | 0/250 [00:00<?, ? examples/s]"
      ]
     },
     "metadata": {},
     "output_type": "display_data"
    }
   ],
   "source": [
    "num_shards = 20\n",
    "\n",
    "for i in range(num_shards):\n",
    "    output_file = f\"dataset_part_{i}.json\"\n",
    "    \n",
    "    if os.path.exists(output_file):\n",
    "        print(f\"Le shard {i} est déjà traité, on passe au suivant.\")\n",
    "        continue\n",
    "\n",
    "    shard = dataset.shard(num_shards=num_shards, index=i)\n",
    "    processed_shard = shard.map(lambda x: {\"summary\": generate_summary(x[\"text\"])})\n",
    "    processed_shard.to_json(output_file)\n",
    "    print(f\"Shard {i} traité et sauvegardé dans {output_file}.\")"
   ]
  },
  {
   "cell_type": "code",
   "execution_count": null,
   "metadata": {},
   "outputs": [
    {
     "data": {
      "application/vnd.jupyter.widget-view+json": {
       "model_id": "0c5dd35b469d48079aee468694eefb1e",
       "version_major": 2,
       "version_minor": 0
      },
      "text/plain": [
       "Generating train split: 0 examples [00:00, ? examples/s]"
      ]
     },
     "metadata": {},
     "output_type": "display_data"
    },
    {
     "data": {
      "application/vnd.jupyter.widget-view+json": {
       "model_id": "cbbf34e5ee3147f9af45450ed4a03380",
       "version_major": 2,
       "version_minor": 0
      },
      "text/plain": [
       "Generating train split: 0 examples [00:00, ? examples/s]"
      ]
     },
     "metadata": {},
     "output_type": "display_data"
    },
    {
     "data": {
      "application/vnd.jupyter.widget-view+json": {
       "model_id": "80d2d5b078a24f9ca66dc6f9751690be",
       "version_major": 2,
       "version_minor": 0
      },
      "text/plain": [
       "Generating train split: 0 examples [00:00, ? examples/s]"
      ]
     },
     "metadata": {},
     "output_type": "display_data"
    },
    {
     "data": {
      "application/vnd.jupyter.widget-view+json": {
       "model_id": "aa762400488b4e8eb8b116e9ad39f4a5",
       "version_major": 2,
       "version_minor": 0
      },
      "text/plain": [
       "Generating train split: 0 examples [00:00, ? examples/s]"
      ]
     },
     "metadata": {},
     "output_type": "display_data"
    },
    {
     "data": {
      "application/vnd.jupyter.widget-view+json": {
       "model_id": "eff60f370c734a208766cc8f0254559d",
       "version_major": 2,
       "version_minor": 0
      },
      "text/plain": [
       "Generating train split: 0 examples [00:00, ? examples/s]"
      ]
     },
     "metadata": {},
     "output_type": "display_data"
    },
    {
     "data": {
      "application/vnd.jupyter.widget-view+json": {
       "model_id": "56da3b73cdd64c91b42742afdae2a7b6",
       "version_major": 2,
       "version_minor": 0
      },
      "text/plain": [
       "Generating train split: 0 examples [00:00, ? examples/s]"
      ]
     },
     "metadata": {},
     "output_type": "display_data"
    },
    {
     "data": {
      "application/vnd.jupyter.widget-view+json": {
       "model_id": "3e95ef20729f47368a13f0b5243a01b8",
       "version_major": 2,
       "version_minor": 0
      },
      "text/plain": [
       "Generating train split: 0 examples [00:00, ? examples/s]"
      ]
     },
     "metadata": {},
     "output_type": "display_data"
    },
    {
     "data": {
      "application/vnd.jupyter.widget-view+json": {
       "model_id": "7a805807291a45e0bfbfa300fc7d9be6",
       "version_major": 2,
       "version_minor": 0
      },
      "text/plain": [
       "Generating train split: 0 examples [00:00, ? examples/s]"
      ]
     },
     "metadata": {},
     "output_type": "display_data"
    },
    {
     "data": {
      "application/vnd.jupyter.widget-view+json": {
       "model_id": "5dca117a42454c269976937ded1deeb9",
       "version_major": 2,
       "version_minor": 0
      },
      "text/plain": [
       "Generating train split: 0 examples [00:00, ? examples/s]"
      ]
     },
     "metadata": {},
     "output_type": "display_data"
    },
    {
     "data": {
      "application/vnd.jupyter.widget-view+json": {
       "model_id": "453e94905cfa4638bdeedd68167e5188",
       "version_major": 2,
       "version_minor": 0
      },
      "text/plain": [
       "Generating train split: 0 examples [00:00, ? examples/s]"
      ]
     },
     "metadata": {},
     "output_type": "display_data"
    },
    {
     "data": {
      "application/vnd.jupyter.widget-view+json": {
       "model_id": "76888e2c9b2341a59a53ec792fd7275f",
       "version_major": 2,
       "version_minor": 0
      },
      "text/plain": [
       "Generating train split: 0 examples [00:00, ? examples/s]"
      ]
     },
     "metadata": {},
     "output_type": "display_data"
    },
    {
     "data": {
      "application/vnd.jupyter.widget-view+json": {
       "model_id": "1ba22e4dc173492baa92cd11674c295e",
       "version_major": 2,
       "version_minor": 0
      },
      "text/plain": [
       "Generating train split: 0 examples [00:00, ? examples/s]"
      ]
     },
     "metadata": {},
     "output_type": "display_data"
    },
    {
     "data": {
      "application/vnd.jupyter.widget-view+json": {
       "model_id": "6bbf0a2591cd4229a62e72ba1feedfa9",
       "version_major": 2,
       "version_minor": 0
      },
      "text/plain": [
       "Generating train split: 0 examples [00:00, ? examples/s]"
      ]
     },
     "metadata": {},
     "output_type": "display_data"
    },
    {
     "data": {
      "application/vnd.jupyter.widget-view+json": {
       "model_id": "c59e4349d723457994ad477d5f92da39",
       "version_major": 2,
       "version_minor": 0
      },
      "text/plain": [
       "Generating train split: 0 examples [00:00, ? examples/s]"
      ]
     },
     "metadata": {},
     "output_type": "display_data"
    },
    {
     "data": {
      "application/vnd.jupyter.widget-view+json": {
       "model_id": "bc99cdb5b17a448abe2747cf1655f293",
       "version_major": 2,
       "version_minor": 0
      },
      "text/plain": [
       "Generating train split: 0 examples [00:00, ? examples/s]"
      ]
     },
     "metadata": {},
     "output_type": "display_data"
    },
    {
     "data": {
      "application/vnd.jupyter.widget-view+json": {
       "model_id": "86f7677cdd244ab08523bd84fea3fb00",
       "version_major": 2,
       "version_minor": 0
      },
      "text/plain": [
       "Generating train split: 0 examples [00:00, ? examples/s]"
      ]
     },
     "metadata": {},
     "output_type": "display_data"
    },
    {
     "data": {
      "application/vnd.jupyter.widget-view+json": {
       "model_id": "bb5ca9aed0294113965f60e41b77071d",
       "version_major": 2,
       "version_minor": 0
      },
      "text/plain": [
       "Generating train split: 0 examples [00:00, ? examples/s]"
      ]
     },
     "metadata": {},
     "output_type": "display_data"
    },
    {
     "data": {
      "application/vnd.jupyter.widget-view+json": {
       "model_id": "54415523af7e49adb9e62d5e1d8464ac",
       "version_major": 2,
       "version_minor": 0
      },
      "text/plain": [
       "Generating train split: 0 examples [00:00, ? examples/s]"
      ]
     },
     "metadata": {},
     "output_type": "display_data"
    },
    {
     "data": {
      "application/vnd.jupyter.widget-view+json": {
       "model_id": "3f71ae42e2e2420ab633392c01c940f4",
       "version_major": 2,
       "version_minor": 0
      },
      "text/plain": [
       "Generating train split: 0 examples [00:00, ? examples/s]"
      ]
     },
     "metadata": {},
     "output_type": "display_data"
    },
    {
     "data": {
      "application/vnd.jupyter.widget-view+json": {
       "model_id": "05ccb60fe24d49a1a1dafdeabbb7333b",
       "version_major": 2,
       "version_minor": 0
      },
      "text/plain": [
       "Generating train split: 0 examples [00:00, ? examples/s]"
      ]
     },
     "metadata": {},
     "output_type": "display_data"
    },
    {
     "data": {
      "application/vnd.jupyter.widget-view+json": {
       "model_id": "2f9e7cc08ed040da9e54b0975ae8d597",
       "version_major": 2,
       "version_minor": 0
      },
      "text/plain": [
       "Creating json from Arrow format:   0%|          | 0/5 [00:00<?, ?ba/s]"
      ]
     },
     "metadata": {},
     "output_type": "display_data"
    },
    {
     "name": "stdout",
     "output_type": "stream",
     "text": [
      "Dataset fusionné et sauvegardé dans merged_dataset.json\n"
     ]
    }
   ],
   "source": [
    "import os\n",
    "from datasets import load_dataset, concatenate_datasets\n",
    "\n",
    "num_shards = 20\n",
    "shard_files = []\n",
    "\n",
    "# Récupérer la liste des fichiers existants\n",
    "for i in range(num_shards):\n",
    "    file_path = f\"dataset_part_{i}.json\"\n",
    "    if os.path.exists(file_path):\n",
    "        shard_files.append(file_path)\n",
    "    else:\n",
    "        print(f\"Shard {i} introuvable.\")\n",
    "\n",
    "if not shard_files:\n",
    "    print(\"Aucun shard trouvé.\")\n",
    "else:\n",
    "    # Charger chaque shard dans une liste de Dataset\n",
    "    datasets_list = [load_dataset(\"json\", data_files=file_path)[\"train\"] for file_path in shard_files]\n",
    "    # Fusionner les datasets\n",
    "    merged_dataset = concatenate_datasets(datasets_list)\n",
    "    \n",
    "    # Sauvegarder le dataset fusionné dans un nouveau fichier JSON\n",
    "    merged_dataset.to_json(\"merged_dataset.json\")\n",
    "    print(\"Dataset fusionné et sauvegardé dans merged_dataset.json\")\n"
   ]
  },
  {
   "cell_type": "code",
   "execution_count": null,
   "metadata": {},
   "outputs": [
    {
     "name": "stdout",
     "output_type": "stream",
     "text": [
      "Dataset({\n",
      "    features: ['text', 'token_length', 'summary'],\n",
      "    num_rows: 100\n",
      "})\n"
     ]
    }
   ],
   "source": [
    "print(dataset)"
   ]
  },
  {
   "cell_type": "code",
   "execution_count": null,
   "metadata": {},
   "outputs": [
    {
     "data": {
      "application/vnd.jupyter.widget-view+json": {
       "model_id": "2abc4f3758cc47a18dbc96e8b7bc7d6b",
       "version_major": 2,
       "version_minor": 0
      },
      "text/plain": [
       "Creating json from Arrow format:   0%|          | 0/1 [00:00<?, ?ba/s]"
      ]
     },
     "metadata": {},
     "output_type": "display_data"
    },
    {
     "data": {
      "text/plain": [
       "485812"
      ]
     },
     "metadata": {},
     "output_type": "display_data"
    }
   ],
   "source": [
    "dataset.to_json(\"summarization_dataset.json\")\n"
   ]
  },
  {
   "cell_type": "code",
   "execution_count": null,
   "metadata": {},
   "outputs": [],
   "source": [
    "n_total = 5000\n",
    "\n",
    "dataset_mlsum = load_dataset(\"mlsum\", \"fr\", cache_dir=\"/Data/gabriel-mercier/hf_datasets\")\n",
    "#dataset_wiki = load_dataset(\"wikipedia\", \"20220301.fr\", cache_dir=\"/Data/gabriel-mercier/hf_datasets\")\n",
    "\n",
    "dataset_init = dataset_mlsum['train'].shuffle(seed=42).select(range(5000)) \n",
    "dataset = dataset_init.select_columns(['text'])"
   ]
  },
  {
   "cell_type": "code",
   "execution_count": null,
   "metadata": {},
   "outputs": [
    {
     "name": "stdout",
     "output_type": "stream",
     "text": [
      "Dataset({\n",
      "    features: ['text'],\n",
      "    num_rows: 5000\n",
      "})\n"
     ]
    }
   ],
   "source": [
    "print(dataset)"
   ]
  },
  {
   "cell_type": "code",
   "execution_count": null,
   "metadata": {},
   "outputs": [],
   "source": [
    "llm_name = \"Qwen/Qwen2.5-32B-Instruct\"\n",
    "tokenizer_llm = AutoTokenizer.from_pretrained(llm_name, \n",
    "                                          cache_dir=\"/Data/gabriel-mercier/hf_models\",\n",
    "                                          padding_side='left') #auto reggressive llm"
   ]
  },
  {
   "cell_type": "code",
   "execution_count": null,
   "metadata": {},
   "outputs": [
    {
     "data": {
      "application/vnd.jupyter.widget-view+json": {
       "model_id": "006d647859974c4fae18f50b4383df18",
       "version_major": 2,
       "version_minor": 0
      },
      "text/plain": [
       "Map:   0%|          | 0/5000 [00:00<?, ? examples/s]"
      ]
     },
     "metadata": {},
     "output_type": "display_data"
    },
    {
     "data": {
      "text/plain": [
       "Text(0.5, 1.0, 'Distibution')"
      ]
     },
     "metadata": {},
     "output_type": "display_data"
    },
    {
     "data": {
      "image/png": "[encoded data removed]",
      "text/plain": [
       "<Figure size 640x480 with 1 Axes>"
      ]
     },
     "metadata": {},
     "output_type": "display_data"
    }
   ],
   "source": [
    "def get_token_length(example):\n",
    "    tokens = tokenizer_llm(example[\"text\"], truncation=True, max_length=6000)[\"input_ids\"]\n",
    "    return {\"token_length\": len(tokens)}\n",
    "\n",
    "dataset_token = dataset.map(get_token_length)\n",
    "\n",
    "plt.hist(dataset_token[\"token_length\"], bins=100)\n",
    "plt.xlabel(\"Number of tokens\")\n",
    "plt.ylabel(\"Total\")\n",
    "plt.title(\"Distibution\")"
   ]
  },
  {
   "cell_type": "code",
   "execution_count": null,
   "metadata": {},
   "outputs": [
    {
     "ename": "NameError",
     "evalue": "name 'torch' is not defined",
     "output_type": "error",
     "traceback": [
      "\u001b[0;31m---------------------------------------------------------------------------\u001b[0m\n",
      "\u001b[0;31mNameError\u001b[0m                                 Traceback (most recent call last)\n",
      "Cell \u001b[0;32mIn[2], line 2\u001b[0m\n",
      "\u001b[1;32m      1\u001b[0m max_length \u001b[38;5;241m=\u001b[39m \u001b[38;5;241m2500\u001b[39m\n",
      "\u001b[0;32m----> 2\u001b[0m \u001b[43mtorch\u001b[49m\u001b[38;5;241m.\u001b[39mcuda\u001b[38;5;241m.\u001b[39mempty_cache()\n",
      "\n",
      "\u001b[0;31mNameError\u001b[0m: name 'torch' is not defined"
     ]
    }
   ],
   "source": [
    "max_length = 2500"
   ]
  },
  {
   "cell_type": "code",
   "execution_count": null,
   "metadata": {},
   "outputs": [],
   "source": []
  }
 ],
 "metadata": {
  "kernelspec": {
   "display_name": ".venv",
   "language": "python",
   "name": "python3"
  },
  "language_info": {
   "codemirror_mode": {
    "name": "ipython",
    "version": 3
   },
   "file_extension": ".py",
   "mimetype": "text/x-python",
   "name": "python",
   "nbconvert_exporter": "python",
   "pygments_lexer": "ipython3",
   "version": "3.9.21"
  }
 },
 "nbformat": 4,
 "nbformat_minor": 2
}
